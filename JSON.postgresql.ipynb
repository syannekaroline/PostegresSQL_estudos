{
 "cells": [
  {
   "cell_type": "code",
   "execution_count": 2,
   "metadata": {},
   "outputs": [],
   "source": [
    "import  os \n",
    "import  psycopg2  as  ps \n",
    "import  pandas  as  pd\n",
    "\n",
    "conn = ps.connect(\n",
    "    host=os.environ[\"db_host\"],\n",
    "    port=os.environ[\"db_port\"],\n",
    "    dbname=os.environ[\"db_name\"],\n",
    "    user=os.environ[\"db_user\"],\n",
    "    password=os.environ[\"db_password\"])"
   ]
  },
  {
   "attachments": {},
   "cell_type": "markdown",
   "metadata": {},
   "source": [
    "##### Documentos JSON\n",
    "Um documento(objeto) é um conjunto não-ordenado de dados armazenados em um par **\"nome\":valor** (campo), que inicia e termina com chaves {}.\n",
    "\n",
    "- Todos os nomes-chaves são englobados em **aspas duplas**, e são sperados de seus valores por dois-pontos: \n",
    "- Os pares (campos) são separados um do outro por vírgulas.\n",
    "\n",
    "- **\"chave\": chave**"
   ]
  },
  {
   "attachments": {},
   "cell_type": "markdown",
   "metadata": {},
   "source": [
    "###### Exemplo\n",
    "\n",
    "{\n",
    "\n",
    "    \n",
    "    \"chave\": \"string\",\n",
    "    \"chave\": 12,\n",
    "    \"chave\": [\"string\",12.5,\"string],\n",
    "    \"chave\": true,\n",
    "    \"chave\": {\"chave\":\"valor\"}\n",
    "}"
   ]
  },
  {
   "cell_type": "code",
   "execution_count": null,
   "metadata": {
    "vscode": {
     "languageId": "sql"
    }
   },
   "outputs": [],
   "source": [
    "--Criar tabela campo JSON\n",
    "CREATE TABLE peds (\n",
    "    id serial NOT NULL PRIMARY KEY,\n",
    "    pedido json NOT NULL\n",
    ");\n",
    "\n",
    "--inserir registros para testes\n",
    "INSERT INTO peds(pedidos)\n",
    "VALUES\n",
    "('{\"comprador\":\"Syanne\",\"produtos\":{\"bebida\":\"Suco de maracujá\",\"comida\":\"Coxinha de frango\"}}'),\n",
    "('{\"comprador\":\"Karoline\",\"produtos\":{\"bebida\":\"Água\",\"comida\":\"pizza de calabresa\"}}'),\n",
    "('{\"comprador\":\"Moreira\",\"produtos\":{\"bebida\":\"coca cola\",\"comida\":\"Pastel de Frango\"}}'),\n",
    "('{\"comprador\":\"Moreira\",\"produtos\":{\"bebida\":\"guarana garoto\",\"comida\":\"Salgado\"}}')\n",
    "\n",
    "-- Assim se pode consultar partes específicas de uma mesma coluna com uma complexidade maior\n",
    "-- ùtil pra aplicações web em que se envia e recebe dados no formato JSON\n"
   ]
  },
  {
   "cell_type": "code",
   "execution_count": 3,
   "metadata": {
    "vscode": {
     "languageId": "sql"
    }
   },
   "outputs": [
    {
     "name": "stderr",
     "output_type": "stream",
     "text": [
      "C:\\Users\\syann\\AppData\\Local\\Temp\\ipykernel_9092\\1205731766.py:1: UserWarning: pandas only supports SQLAlchemy connectable (engine/connection) or database string URI or sqlite3 DBAPI2 connection. Other DBAPI2 objects are not tested. Please consider using SQLAlchemy.\n",
      "  df = pd.read_sql_query(\"select * from peds\", con=conn)\n"
     ]
    },
    {
     "data": {
      "text/html": [
       "<div>\n",
       "<style scoped>\n",
       "    .dataframe tbody tr th:only-of-type {\n",
       "        vertical-align: middle;\n",
       "    }\n",
       "\n",
       "    .dataframe tbody tr th {\n",
       "        vertical-align: top;\n",
       "    }\n",
       "\n",
       "    .dataframe thead th {\n",
       "        text-align: right;\n",
       "    }\n",
       "</style>\n",
       "<table border=\"1\" class=\"dataframe\">\n",
       "  <thead>\n",
       "    <tr style=\"text-align: right;\">\n",
       "      <th></th>\n",
       "      <th>id</th>\n",
       "      <th>pedido</th>\n",
       "    </tr>\n",
       "  </thead>\n",
       "  <tbody>\n",
       "    <tr>\n",
       "      <th>0</th>\n",
       "      <td>1</td>\n",
       "      <td>{'comprador': 'Syanne', 'produtos': {'bebida':...</td>\n",
       "    </tr>\n",
       "    <tr>\n",
       "      <th>1</th>\n",
       "      <td>2</td>\n",
       "      <td>{'comprador': 'Karoline', 'produtos': {'bebida...</td>\n",
       "    </tr>\n",
       "    <tr>\n",
       "      <th>2</th>\n",
       "      <td>3</td>\n",
       "      <td>{'comprador': 'Moreira', 'produtos': {'bebida'...</td>\n",
       "    </tr>\n",
       "    <tr>\n",
       "      <th>3</th>\n",
       "      <td>4</td>\n",
       "      <td>{'comprador': 'Moreira', 'produtos': {'bebida'...</td>\n",
       "    </tr>\n",
       "  </tbody>\n",
       "</table>\n",
       "</div>"
      ],
      "text/plain": [
       "   id                                             pedido\n",
       "0   1  {'comprador': 'Syanne', 'produtos': {'bebida':...\n",
       "1   2  {'comprador': 'Karoline', 'produtos': {'bebida...\n",
       "2   3  {'comprador': 'Moreira', 'produtos': {'bebida'...\n",
       "3   4  {'comprador': 'Moreira', 'produtos': {'bebida'..."
      ]
     },
     "execution_count": 3,
     "metadata": {},
     "output_type": "execute_result"
    }
   ],
   "source": [
    "df = pd.read_sql_query(\"select * from peds\", con=conn)\n",
    "df"
   ]
  },
  {
   "attachments": {},
   "cell_type": "markdown",
   "metadata": {},
   "source": [
    "#### Operadores JSON \n",
    "Operadores específicos pra acessar partes específicas da estrutura"
   ]
  },
  {
   "cell_type": "code",
   "execution_count": null,
   "metadata": {
    "vscode": {
     "languageId": "sql"
    }
   },
   "outputs": [],
   "source": [
    "--Retornar nomes dos compradores no formato JSON\n",
    "-- SELECT nome_coluna -> nome_chave FROM nome_tabela\n",
    "-- \"->\" retorna um campo específico\n",
    "\n",
    "SELECT pedido -> 'comprador' AS Comprador\n",
    "FROM peds;\n",
    "\n",
    "-- OBS : retorna no formato JSON "
   ]
  },
  {
   "cell_type": "code",
   "execution_count": 4,
   "metadata": {},
   "outputs": [
    {
     "name": "stderr",
     "output_type": "stream",
     "text": [
      "C:\\Users\\syann\\AppData\\Local\\Temp\\ipykernel_9092\\3931384518.py:1: UserWarning: pandas only supports SQLAlchemy connectable (engine/connection) or database string URI or sqlite3 DBAPI2 connection. Other DBAPI2 objects are not tested. Please consider using SQLAlchemy.\n",
      "  df = pd.read_sql_query(\"SELECT pedido -> 'comprador' AS Comprador FROM peds\", con=conn)\n"
     ]
    },
    {
     "data": {
      "text/html": [
       "<div>\n",
       "<style scoped>\n",
       "    .dataframe tbody tr th:only-of-type {\n",
       "        vertical-align: middle;\n",
       "    }\n",
       "\n",
       "    .dataframe tbody tr th {\n",
       "        vertical-align: top;\n",
       "    }\n",
       "\n",
       "    .dataframe thead th {\n",
       "        text-align: right;\n",
       "    }\n",
       "</style>\n",
       "<table border=\"1\" class=\"dataframe\">\n",
       "  <thead>\n",
       "    <tr style=\"text-align: right;\">\n",
       "      <th></th>\n",
       "      <th>comprador</th>\n",
       "    </tr>\n",
       "  </thead>\n",
       "  <tbody>\n",
       "    <tr>\n",
       "      <th>0</th>\n",
       "      <td>Syanne</td>\n",
       "    </tr>\n",
       "    <tr>\n",
       "      <th>1</th>\n",
       "      <td>Karoline</td>\n",
       "    </tr>\n",
       "    <tr>\n",
       "      <th>2</th>\n",
       "      <td>Moreira</td>\n",
       "    </tr>\n",
       "    <tr>\n",
       "      <th>3</th>\n",
       "      <td>Moreira</td>\n",
       "    </tr>\n",
       "  </tbody>\n",
       "</table>\n",
       "</div>"
      ],
      "text/plain": [
       "  comprador\n",
       "0    Syanne\n",
       "1  Karoline\n",
       "2   Moreira\n",
       "3   Moreira"
      ]
     },
     "execution_count": 4,
     "metadata": {},
     "output_type": "execute_result"
    }
   ],
   "source": [
    "df = pd.read_sql_query(\"SELECT pedido -> 'comprador' AS Comprador FROM peds\", con=conn)\n",
    "df"
   ]
  },
  {
   "attachments": {},
   "cell_type": "markdown",
   "metadata": {},
   "source": [
    "**Pra retornar em formato de texto: usar o operador *->>*.**"
   ]
  },
  {
   "cell_type": "code",
   "execution_count": 5,
   "metadata": {},
   "outputs": [
    {
     "name": "stderr",
     "output_type": "stream",
     "text": [
      "C:\\Users\\syann\\AppData\\Local\\Temp\\ipykernel_9092\\1627589087.py:2: UserWarning: pandas only supports SQLAlchemy connectable (engine/connection) or database string URI or sqlite3 DBAPI2 connection. Other DBAPI2 objects are not tested. Please consider using SQLAlchemy.\n",
      "  df = pd.read_sql_query(\"SELECT pedido ->> 'comprador' AS Comprador FROM peds\", con=conn)\n"
     ]
    },
    {
     "data": {
      "text/html": [
       "<div>\n",
       "<style scoped>\n",
       "    .dataframe tbody tr th:only-of-type {\n",
       "        vertical-align: middle;\n",
       "    }\n",
       "\n",
       "    .dataframe tbody tr th {\n",
       "        vertical-align: top;\n",
       "    }\n",
       "\n",
       "    .dataframe thead th {\n",
       "        text-align: right;\n",
       "    }\n",
       "</style>\n",
       "<table border=\"1\" class=\"dataframe\">\n",
       "  <thead>\n",
       "    <tr style=\"text-align: right;\">\n",
       "      <th></th>\n",
       "      <th>comprador</th>\n",
       "    </tr>\n",
       "  </thead>\n",
       "  <tbody>\n",
       "    <tr>\n",
       "      <th>0</th>\n",
       "      <td>Syanne</td>\n",
       "    </tr>\n",
       "    <tr>\n",
       "      <th>1</th>\n",
       "      <td>Karoline</td>\n",
       "    </tr>\n",
       "    <tr>\n",
       "      <th>2</th>\n",
       "      <td>Moreira</td>\n",
       "    </tr>\n",
       "    <tr>\n",
       "      <th>3</th>\n",
       "      <td>Moreira</td>\n",
       "    </tr>\n",
       "  </tbody>\n",
       "</table>\n",
       "</div>"
      ],
      "text/plain": [
       "  comprador\n",
       "0    Syanne\n",
       "1  Karoline\n",
       "2   Moreira\n",
       "3   Moreira"
      ]
     },
     "execution_count": 5,
     "metadata": {},
     "output_type": "execute_result"
    }
   ],
   "source": [
    "#idem anterior , mas em formato de texto\n",
    "df = pd.read_sql_query(\"SELECT pedido ->> 'comprador' AS Comprador FROM peds\", con=conn)\n",
    "df"
   ]
  },
  {
   "cell_type": "code",
   "execution_count": 10,
   "metadata": {},
   "outputs": [
    {
     "name": "stderr",
     "output_type": "stream",
     "text": [
      "C:\\Users\\syann\\AppData\\Local\\Temp\\ipykernel_9092\\1951327678.py:4: UserWarning: pandas only supports SQLAlchemy connectable (engine/connection) or database string URI or sqlite3 DBAPI2 connection. Other DBAPI2 objects are not tested. Please consider using SQLAlchemy.\n",
      "  df = pd.read_sql_query(\"SELECT pedido -> 'produtos' ->> 'bebida' AS Bebidas FROM peds\", con=conn)\n"
     ]
    },
    {
     "data": {
      "text/html": [
       "<div>\n",
       "<style scoped>\n",
       "    .dataframe tbody tr th:only-of-type {\n",
       "        vertical-align: middle;\n",
       "    }\n",
       "\n",
       "    .dataframe tbody tr th {\n",
       "        vertical-align: top;\n",
       "    }\n",
       "\n",
       "    .dataframe thead th {\n",
       "        text-align: right;\n",
       "    }\n",
       "</style>\n",
       "<table border=\"1\" class=\"dataframe\">\n",
       "  <thead>\n",
       "    <tr style=\"text-align: right;\">\n",
       "      <th></th>\n",
       "      <th>bebidas</th>\n",
       "    </tr>\n",
       "  </thead>\n",
       "  <tbody>\n",
       "    <tr>\n",
       "      <th>0</th>\n",
       "      <td>Suco de maracujá</td>\n",
       "    </tr>\n",
       "    <tr>\n",
       "      <th>1</th>\n",
       "      <td>Água</td>\n",
       "    </tr>\n",
       "    <tr>\n",
       "      <th>2</th>\n",
       "      <td>coca cola</td>\n",
       "    </tr>\n",
       "    <tr>\n",
       "      <th>3</th>\n",
       "      <td>guarana garoto</td>\n",
       "    </tr>\n",
       "  </tbody>\n",
       "</table>\n",
       "</div>"
      ],
      "text/plain": [
       "            bebidas\n",
       "0  Suco de maracujá\n",
       "1              Água\n",
       "2         coca cola\n",
       "3    guarana garoto"
      ]
     },
     "execution_count": 10,
     "metadata": {},
     "output_type": "execute_result"
    }
   ],
   "source": [
    "#retornar as bebidas que foram pedidas\n",
    "# SELECT pedido -> 'produtos' ->> 'bebida' AS Bebidas FROM peds\n",
    "\n",
    "df = pd.read_sql_query(\"SELECT pedido -> 'produtos' ->> 'bebida' AS Bebidas FROM peds\", con=conn)\n",
    "df"
   ]
  },
  {
   "attachments": {},
   "cell_type": "markdown",
   "metadata": {},
   "source": [
    "#### Json na cláusua WHERE: filtros"
   ]
  },
  {
   "cell_type": "code",
   "execution_count": null,
   "metadata": {
    "vscode": {
     "languageId": "sql"
    }
   },
   "outputs": [],
   "source": [
    "--Quem comprou uma pizza de calabresa?\n",
    "SELECT pedido -> 'comprador' AS Comprador\n",
    "FROM peds\n",
    "WHERE pedido -> 'produtos' ->> 'comida' = 'pizza de calabresa';"
   ]
  },
  {
   "cell_type": "code",
   "execution_count": 15,
   "metadata": {},
   "outputs": [
    {
     "name": "stderr",
     "output_type": "stream",
     "text": [
      "C:\\Users\\syann\\AppData\\Local\\Temp\\ipykernel_9092\\2192696319.py:1: UserWarning: pandas only supports SQLAlchemy connectable (engine/connection) or database string URI or sqlite3 DBAPI2 connection. Other DBAPI2 objects are not tested. Please consider using SQLAlchemy.\n",
      "  df = pd.read_sql_query(\"SELECT pedido -> 'comprador' AS Comprador FROM peds WHERE pedido -> 'produtos' ->> 'comida' = 'pizza de calabresa';\", con=conn)\n"
     ]
    },
    {
     "data": {
      "text/html": [
       "<div>\n",
       "<style scoped>\n",
       "    .dataframe tbody tr th:only-of-type {\n",
       "        vertical-align: middle;\n",
       "    }\n",
       "\n",
       "    .dataframe tbody tr th {\n",
       "        vertical-align: top;\n",
       "    }\n",
       "\n",
       "    .dataframe thead th {\n",
       "        text-align: right;\n",
       "    }\n",
       "</style>\n",
       "<table border=\"1\" class=\"dataframe\">\n",
       "  <thead>\n",
       "    <tr style=\"text-align: right;\">\n",
       "      <th></th>\n",
       "      <th>comprador</th>\n",
       "    </tr>\n",
       "  </thead>\n",
       "  <tbody>\n",
       "    <tr>\n",
       "      <th>0</th>\n",
       "      <td>Karoline</td>\n",
       "    </tr>\n",
       "  </tbody>\n",
       "</table>\n",
       "</div>"
      ],
      "text/plain": [
       "  comprador\n",
       "0  Karoline"
      ]
     },
     "execution_count": 15,
     "metadata": {},
     "output_type": "execute_result"
    }
   ],
   "source": [
    "df = pd.read_sql_query(\"SELECT pedido -> 'comprador' AS Comprador FROM peds WHERE pedido -> 'produtos' ->> 'comida' = 'pizza de calabresa';\", con=conn)\n",
    "df"
   ]
  },
  {
   "attachments": {},
   "cell_type": "markdown",
   "metadata": {},
   "source": [
    "#### Funções JSON\n",
    "\n",
    "- json_each\n",
    "    -Retorna cada chave valor em uma linha separada\n",
    "    - SELECT json_each(pedido) FROM peds;"
   ]
  },
  {
   "cell_type": "code",
   "execution_count": 16,
   "metadata": {},
   "outputs": [
    {
     "name": "stderr",
     "output_type": "stream",
     "text": [
      "C:\\Users\\syann\\AppData\\Local\\Temp\\ipykernel_9092\\1849449838.py:1: UserWarning: pandas only supports SQLAlchemy connectable (engine/connection) or database string URI or sqlite3 DBAPI2 connection. Other DBAPI2 objects are not tested. Please consider using SQLAlchemy.\n",
      "  df = pd.read_sql_query(\"SELECT json_each(pedido) FROM peds;\", con=conn)\n"
     ]
    },
    {
     "data": {
      "text/html": [
       "<div>\n",
       "<style scoped>\n",
       "    .dataframe tbody tr th:only-of-type {\n",
       "        vertical-align: middle;\n",
       "    }\n",
       "\n",
       "    .dataframe tbody tr th {\n",
       "        vertical-align: top;\n",
       "    }\n",
       "\n",
       "    .dataframe thead th {\n",
       "        text-align: right;\n",
       "    }\n",
       "</style>\n",
       "<table border=\"1\" class=\"dataframe\">\n",
       "  <thead>\n",
       "    <tr style=\"text-align: right;\">\n",
       "      <th></th>\n",
       "      <th>json_each</th>\n",
       "    </tr>\n",
       "  </thead>\n",
       "  <tbody>\n",
       "    <tr>\n",
       "      <th>0</th>\n",
       "      <td>(comprador,\"\"\"Syanne\"\"\")</td>\n",
       "    </tr>\n",
       "    <tr>\n",
       "      <th>1</th>\n",
       "      <td>(produtos,\"{\"\"bebida\"\":\"\"Suco de maracujá\"\",\"\"...</td>\n",
       "    </tr>\n",
       "    <tr>\n",
       "      <th>2</th>\n",
       "      <td>(comprador,\"\"\"Karoline\"\"\")</td>\n",
       "    </tr>\n",
       "    <tr>\n",
       "      <th>3</th>\n",
       "      <td>(produtos,\"{\"\"bebida\"\":\"\"Água\"\",\"\"comida\"\":\"\"p...</td>\n",
       "    </tr>\n",
       "    <tr>\n",
       "      <th>4</th>\n",
       "      <td>(comprador,\"\"\"Moreira\"\"\")</td>\n",
       "    </tr>\n",
       "    <tr>\n",
       "      <th>5</th>\n",
       "      <td>(produtos,\"{\"\"bebida\"\":\"\"coca cola\"\",\"\"comida\"...</td>\n",
       "    </tr>\n",
       "    <tr>\n",
       "      <th>6</th>\n",
       "      <td>(comprador,\"\"\"Moreira\"\"\")</td>\n",
       "    </tr>\n",
       "    <tr>\n",
       "      <th>7</th>\n",
       "      <td>(produtos,\"{\"\"bebida\"\":\"\"guarana garoto\"\",\"\"co...</td>\n",
       "    </tr>\n",
       "  </tbody>\n",
       "</table>\n",
       "</div>"
      ],
      "text/plain": [
       "                                           json_each\n",
       "0                           (comprador,\"\"\"Syanne\"\"\")\n",
       "1  (produtos,\"{\"\"bebida\"\":\"\"Suco de maracujá\"\",\"\"...\n",
       "2                         (comprador,\"\"\"Karoline\"\"\")\n",
       "3  (produtos,\"{\"\"bebida\"\":\"\"Água\"\",\"\"comida\"\":\"\"p...\n",
       "4                          (comprador,\"\"\"Moreira\"\"\")\n",
       "5  (produtos,\"{\"\"bebida\"\":\"\"coca cola\"\",\"\"comida\"...\n",
       "6                          (comprador,\"\"\"Moreira\"\"\")\n",
       "7  (produtos,\"{\"\"bebida\"\":\"\"guarana garoto\"\",\"\"co..."
      ]
     },
     "execution_count": 16,
     "metadata": {},
     "output_type": "execute_result"
    }
   ],
   "source": [
    "df = pd.read_sql_query(\"SELECT json_each(pedido) FROM peds;\", con=conn)\n",
    "df"
   ]
  },
  {
   "attachments": {},
   "cell_type": "markdown",
   "metadata": {},
   "source": [
    "- Retornar em formato de texto\n",
    "    - json_each_text\n",
    "    "
   ]
  },
  {
   "cell_type": "code",
   "execution_count": 17,
   "metadata": {},
   "outputs": [
    {
     "name": "stderr",
     "output_type": "stream",
     "text": [
      "C:\\Users\\syann\\AppData\\Local\\Temp\\ipykernel_9092\\903461139.py:1: UserWarning: pandas only supports SQLAlchemy connectable (engine/connection) or database string URI or sqlite3 DBAPI2 connection. Other DBAPI2 objects are not tested. Please consider using SQLAlchemy.\n",
      "  df = pd.read_sql_query(\"SELECT json_each_text(pedido) FROM peds;\", con=conn)\n"
     ]
    },
    {
     "data": {
      "text/html": [
       "<div>\n",
       "<style scoped>\n",
       "    .dataframe tbody tr th:only-of-type {\n",
       "        vertical-align: middle;\n",
       "    }\n",
       "\n",
       "    .dataframe tbody tr th {\n",
       "        vertical-align: top;\n",
       "    }\n",
       "\n",
       "    .dataframe thead th {\n",
       "        text-align: right;\n",
       "    }\n",
       "</style>\n",
       "<table border=\"1\" class=\"dataframe\">\n",
       "  <thead>\n",
       "    <tr style=\"text-align: right;\">\n",
       "      <th></th>\n",
       "      <th>json_each_text</th>\n",
       "    </tr>\n",
       "  </thead>\n",
       "  <tbody>\n",
       "    <tr>\n",
       "      <th>0</th>\n",
       "      <td>(comprador,Syanne)</td>\n",
       "    </tr>\n",
       "    <tr>\n",
       "      <th>1</th>\n",
       "      <td>(produtos,\"{\"\"bebida\"\":\"\"Suco de maracujá\"\",\"\"...</td>\n",
       "    </tr>\n",
       "    <tr>\n",
       "      <th>2</th>\n",
       "      <td>(comprador,Karoline)</td>\n",
       "    </tr>\n",
       "    <tr>\n",
       "      <th>3</th>\n",
       "      <td>(produtos,\"{\"\"bebida\"\":\"\"Água\"\",\"\"comida\"\":\"\"p...</td>\n",
       "    </tr>\n",
       "    <tr>\n",
       "      <th>4</th>\n",
       "      <td>(comprador,Moreira)</td>\n",
       "    </tr>\n",
       "    <tr>\n",
       "      <th>5</th>\n",
       "      <td>(produtos,\"{\"\"bebida\"\":\"\"coca cola\"\",\"\"comida\"...</td>\n",
       "    </tr>\n",
       "    <tr>\n",
       "      <th>6</th>\n",
       "      <td>(comprador,Moreira)</td>\n",
       "    </tr>\n",
       "    <tr>\n",
       "      <th>7</th>\n",
       "      <td>(produtos,\"{\"\"bebida\"\":\"\"guarana garoto\"\",\"\"co...</td>\n",
       "    </tr>\n",
       "  </tbody>\n",
       "</table>\n",
       "</div>"
      ],
      "text/plain": [
       "                                      json_each_text\n",
       "0                                 (comprador,Syanne)\n",
       "1  (produtos,\"{\"\"bebida\"\":\"\"Suco de maracujá\"\",\"\"...\n",
       "2                               (comprador,Karoline)\n",
       "3  (produtos,\"{\"\"bebida\"\":\"\"Água\"\",\"\"comida\"\":\"\"p...\n",
       "4                                (comprador,Moreira)\n",
       "5  (produtos,\"{\"\"bebida\"\":\"\"coca cola\"\",\"\"comida\"...\n",
       "6                                (comprador,Moreira)\n",
       "7  (produtos,\"{\"\"bebida\"\":\"\"guarana garoto\"\",\"\"co..."
      ]
     },
     "execution_count": 17,
     "metadata": {},
     "output_type": "execute_result"
    }
   ],
   "source": [
    "df = pd.read_sql_query(\"SELECT json_each_text(pedido) FROM peds;\", con=conn)\n",
    "df"
   ]
  },
  {
   "attachments": {},
   "cell_type": "markdown",
   "metadata": {},
   "source": [
    "- json_object_keys\n",
    "    - mostra as chaves usadas em uma coluna"
   ]
  },
  {
   "cell_type": "code",
   "execution_count": 19,
   "metadata": {},
   "outputs": [
    {
     "name": "stderr",
     "output_type": "stream",
     "text": [
      "C:\\Users\\syann\\AppData\\Local\\Temp\\ipykernel_9092\\894979693.py:1: UserWarning: pandas only supports SQLAlchemy connectable (engine/connection) or database string URI or sqlite3 DBAPI2 connection. Other DBAPI2 objects are not tested. Please consider using SQLAlchemy.\n",
      "  df = pd.read_sql_query(\"SELECT json_object_keys(pedido->'produtos') FROM peds;\", con=conn)\n"
     ]
    },
    {
     "data": {
      "text/html": [
       "<div>\n",
       "<style scoped>\n",
       "    .dataframe tbody tr th:only-of-type {\n",
       "        vertical-align: middle;\n",
       "    }\n",
       "\n",
       "    .dataframe tbody tr th {\n",
       "        vertical-align: top;\n",
       "    }\n",
       "\n",
       "    .dataframe thead th {\n",
       "        text-align: right;\n",
       "    }\n",
       "</style>\n",
       "<table border=\"1\" class=\"dataframe\">\n",
       "  <thead>\n",
       "    <tr style=\"text-align: right;\">\n",
       "      <th></th>\n",
       "      <th>json_object_keys</th>\n",
       "    </tr>\n",
       "  </thead>\n",
       "  <tbody>\n",
       "    <tr>\n",
       "      <th>0</th>\n",
       "      <td>bebida</td>\n",
       "    </tr>\n",
       "    <tr>\n",
       "      <th>1</th>\n",
       "      <td>comida</td>\n",
       "    </tr>\n",
       "    <tr>\n",
       "      <th>2</th>\n",
       "      <td>bebida</td>\n",
       "    </tr>\n",
       "    <tr>\n",
       "      <th>3</th>\n",
       "      <td>comida</td>\n",
       "    </tr>\n",
       "    <tr>\n",
       "      <th>4</th>\n",
       "      <td>bebida</td>\n",
       "    </tr>\n",
       "    <tr>\n",
       "      <th>5</th>\n",
       "      <td>comida</td>\n",
       "    </tr>\n",
       "    <tr>\n",
       "      <th>6</th>\n",
       "      <td>bebida</td>\n",
       "    </tr>\n",
       "    <tr>\n",
       "      <th>7</th>\n",
       "      <td>comida</td>\n",
       "    </tr>\n",
       "  </tbody>\n",
       "</table>\n",
       "</div>"
      ],
      "text/plain": [
       "  json_object_keys\n",
       "0           bebida\n",
       "1           comida\n",
       "2           bebida\n",
       "3           comida\n",
       "4           bebida\n",
       "5           comida\n",
       "6           bebida\n",
       "7           comida"
      ]
     },
     "execution_count": 19,
     "metadata": {},
     "output_type": "execute_result"
    }
   ],
   "source": [
    "df = pd.read_sql_query(\"SELECT json_object_keys(pedido->'produtos') FROM peds;\", con=conn)\n",
    "df"
   ]
  },
  {
   "attachments": {},
   "cell_type": "markdown",
   "metadata": {},
   "source": [
    "www.json.org\n",
    "https://www.postgresql.org/docs/9.5/functions-json.html\n"
   ]
  }
 ],
 "metadata": {
  "kernelspec": {
   "display_name": "Python 3",
   "language": "python",
   "name": "python3"
  },
  "language_info": {
   "codemirror_mode": {
    "name": "ipython",
    "version": 3
   },
   "file_extension": ".py",
   "mimetype": "text/x-python",
   "name": "python",
   "nbconvert_exporter": "python",
   "pygments_lexer": "ipython3",
   "version": "3.10.9"
  },
  "orig_nbformat": 4,
  "vscode": {
   "interpreter": {
    "hash": "0b638b7dbb675c7855f88e6c22606685bdfdb7930c74e26bbb201fdeea169578"
   }
  }
 },
 "nbformat": 4,
 "nbformat_minor": 2
}
