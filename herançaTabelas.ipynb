{
 "cells": [
  {
   "cell_type": "code",
   "execution_count": 2,
   "metadata": {},
   "outputs": [],
   "source": [
    "import  os \n",
    "import  psycopg2  as  ps \n",
    "import  pandas  as  pd\n",
    "\n",
    "conn = ps.connect(\n",
    "    host=os.environ[\"db_host\"],\n",
    "    port=os.environ[\"db_port\"],\n",
    "    dbname=os.environ[\"db_name\"],\n",
    "    user=os.environ[\"db_user\"],\n",
    "    password=os.environ[\"db_password\"])"
   ]
  },
  {
   "attachments": {},
   "cell_type": "markdown",
   "metadata": {},
   "source": [
    "#### Criar tabelas herdadas no postegresSQL\n",
    "\n",
    "pose-se criar uma tabela pai/base sa qual outras tabelas que vamos criar irão herdar colunas \n",
    "\n",
    "- Criar um vinculo de herança entre uma tabela filho e uma tabela pai"
   ]
  },
  {
   "cell_type": "code",
   "execution_count": null,
   "metadata": {
    "vscode": {
     "languageId": "sql"
    }
   },
   "outputs": [],
   "source": [
    "--criando uma tabela pai\n",
    "create table publicacao(\n",
    "    id serial constraint pk_id_pub primary key,\n",
    "    nome varchar(50),\n",
    "    dataPub date,\n",
    "    idioma varchar(25)\n",
    ");"
   ]
  },
  {
   "cell_type": "code",
   "execution_count": null,
   "metadata": {
    "vscode": {
     "languageId": "sql"
    }
   },
   "outputs": [],
   "source": [
    "-- criando uma tabela filho\n",
    "create table livros(\n",
    "\tisbn13 char(13) unique,\n",
    "\ttipo_capa varchar(20),\n",
    "\tedicao smallint\n",
    ")inherits(publicacao); --herda a estrutura da tabela publicação"
   ]
  },
  {
   "cell_type": "code",
   "execution_count": null,
   "metadata": {
    "vscode": {
     "languageId": "sql"
    }
   },
   "outputs": [],
   "source": [
    "-- criando outra tabela filho\n",
    "create table revistas(\n",
    "\tissn char(8),\n",
    "\tnumero smallint,\n",
    "\tunique (issn , numero) -- a combinação de issn e numero é unica\n",
    ")inherits(publicacao);"
   ]
  },
  {
   "cell_type": "code",
   "execution_count": null,
   "metadata": {
    "vscode": {
     "languageId": "sql"
    }
   },
   "outputs": [],
   "source": [
    "--inserindo dados\n",
    "INSERT INTO publicacao(nome, dataPub,idioma)\n",
    "VALUES('Le Monde', '20220411','Francês')"
   ]
  },
  {
   "cell_type": "code",
   "execution_count": 4,
   "metadata": {
    "vscode": {
     "languageId": "sql"
    }
   },
   "outputs": [
    {
     "name": "stderr",
     "output_type": "stream",
     "text": [
      "C:\\Users\\syann\\AppData\\Local\\Temp\\ipykernel_3156\\2536644355.py:1: UserWarning: pandas only supports SQLAlchemy connectable (engine/connection) or database string URI or sqlite3 DBAPI2 connection. Other DBAPI2 objects are not tested. Please consider using SQLAlchemy.\n",
      "  df = pd.read_sql_query(\"SELECT * FROM publicacao\", con=conn)\n"
     ]
    },
    {
     "data": {
      "text/html": [
       "<div>\n",
       "<style scoped>\n",
       "    .dataframe tbody tr th:only-of-type {\n",
       "        vertical-align: middle;\n",
       "    }\n",
       "\n",
       "    .dataframe tbody tr th {\n",
       "        vertical-align: top;\n",
       "    }\n",
       "\n",
       "    .dataframe thead th {\n",
       "        text-align: right;\n",
       "    }\n",
       "</style>\n",
       "<table border=\"1\" class=\"dataframe\">\n",
       "  <thead>\n",
       "    <tr style=\"text-align: right;\">\n",
       "      <th></th>\n",
       "      <th>id</th>\n",
       "      <th>nome</th>\n",
       "      <th>datapub</th>\n",
       "      <th>idioma</th>\n",
       "    </tr>\n",
       "  </thead>\n",
       "  <tbody>\n",
       "    <tr>\n",
       "      <th>0</th>\n",
       "      <td>1</td>\n",
       "      <td>Le Monde</td>\n",
       "      <td>2022-04-11</td>\n",
       "      <td>Francês</td>\n",
       "    </tr>\n",
       "  </tbody>\n",
       "</table>\n",
       "</div>"
      ],
      "text/plain": [
       "   id      nome     datapub   idioma\n",
       "0   1  Le Monde  2022-04-11  Francês"
      ]
     },
     "execution_count": 4,
     "metadata": {},
     "output_type": "execute_result"
    }
   ],
   "source": [
    "df = pd.read_sql_query(\"SELECT * FROM publicacao\", con=conn)\n",
    "df"
   ]
  },
  {
   "cell_type": "code",
   "execution_count": null,
   "metadata": {
    "vscode": {
     "languageId": "sql"
    }
   },
   "outputs": [],
   "source": [
    "INSERT INTO livros (nome,dataPub,idioma,isbn13,tipo_capa,edicao)\n",
    "VALUES ('livro1','20230103','pt-BR','4002893301234','brochura',2);"
   ]
  },
  {
   "cell_type": "code",
   "execution_count": 5,
   "metadata": {
    "vscode": {
     "languageId": "sql"
    }
   },
   "outputs": [
    {
     "name": "stderr",
     "output_type": "stream",
     "text": [
      "C:\\Users\\syann\\AppData\\Local\\Temp\\ipykernel_3156\\3184445779.py:1: UserWarning: pandas only supports SQLAlchemy connectable (engine/connection) or database string URI or sqlite3 DBAPI2 connection. Other DBAPI2 objects are not tested. Please consider using SQLAlchemy.\n",
      "  df = pd.read_sql_query(\"SELECT * FROM livros\", con=conn)\n"
     ]
    },
    {
     "data": {
      "text/html": [
       "<div>\n",
       "<style scoped>\n",
       "    .dataframe tbody tr th:only-of-type {\n",
       "        vertical-align: middle;\n",
       "    }\n",
       "\n",
       "    .dataframe tbody tr th {\n",
       "        vertical-align: top;\n",
       "    }\n",
       "\n",
       "    .dataframe thead th {\n",
       "        text-align: right;\n",
       "    }\n",
       "</style>\n",
       "<table border=\"1\" class=\"dataframe\">\n",
       "  <thead>\n",
       "    <tr style=\"text-align: right;\">\n",
       "      <th></th>\n",
       "      <th>id</th>\n",
       "      <th>nome</th>\n",
       "      <th>datapub</th>\n",
       "      <th>idioma</th>\n",
       "      <th>isbn13</th>\n",
       "      <th>tipo_capa</th>\n",
       "      <th>edicao</th>\n",
       "    </tr>\n",
       "  </thead>\n",
       "  <tbody>\n",
       "    <tr>\n",
       "      <th>0</th>\n",
       "      <td>2</td>\n",
       "      <td>livro1</td>\n",
       "      <td>2023-01-03</td>\n",
       "      <td>pt-BR</td>\n",
       "      <td>4002893301234</td>\n",
       "      <td>brochura</td>\n",
       "      <td>2</td>\n",
       "    </tr>\n",
       "  </tbody>\n",
       "</table>\n",
       "</div>"
      ],
      "text/plain": [
       "   id    nome     datapub idioma         isbn13 tipo_capa  edicao\n",
       "0   2  livro1  2023-01-03  pt-BR  4002893301234  brochura       2"
      ]
     },
     "execution_count": 5,
     "metadata": {},
     "output_type": "execute_result"
    }
   ],
   "source": [
    "df = pd.read_sql_query(\"SELECT * FROM livros\", con=conn)\n",
    "df"
   ]
  },
  {
   "cell_type": "code",
   "execution_count": 6,
   "metadata": {
    "vscode": {
     "languageId": "sql"
    }
   },
   "outputs": [
    {
     "name": "stderr",
     "output_type": "stream",
     "text": [
      "C:\\Users\\syann\\AppData\\Local\\Temp\\ipykernel_3156\\2536644355.py:1: UserWarning: pandas only supports SQLAlchemy connectable (engine/connection) or database string URI or sqlite3 DBAPI2 connection. Other DBAPI2 objects are not tested. Please consider using SQLAlchemy.\n",
      "  df = pd.read_sql_query(\"SELECT * FROM publicacao\", con=conn)\n"
     ]
    },
    {
     "data": {
      "text/html": [
       "<div>\n",
       "<style scoped>\n",
       "    .dataframe tbody tr th:only-of-type {\n",
       "        vertical-align: middle;\n",
       "    }\n",
       "\n",
       "    .dataframe tbody tr th {\n",
       "        vertical-align: top;\n",
       "    }\n",
       "\n",
       "    .dataframe thead th {\n",
       "        text-align: right;\n",
       "    }\n",
       "</style>\n",
       "<table border=\"1\" class=\"dataframe\">\n",
       "  <thead>\n",
       "    <tr style=\"text-align: right;\">\n",
       "      <th></th>\n",
       "      <th>id</th>\n",
       "      <th>nome</th>\n",
       "      <th>datapub</th>\n",
       "      <th>idioma</th>\n",
       "    </tr>\n",
       "  </thead>\n",
       "  <tbody>\n",
       "    <tr>\n",
       "      <th>0</th>\n",
       "      <td>1</td>\n",
       "      <td>Le Monde</td>\n",
       "      <td>2022-04-11</td>\n",
       "      <td>Francês</td>\n",
       "    </tr>\n",
       "    <tr>\n",
       "      <th>1</th>\n",
       "      <td>2</td>\n",
       "      <td>livro1</td>\n",
       "      <td>2023-01-03</td>\n",
       "      <td>pt-BR</td>\n",
       "    </tr>\n",
       "  </tbody>\n",
       "</table>\n",
       "</div>"
      ],
      "text/plain": [
       "   id      nome     datapub   idioma\n",
       "0   1  Le Monde  2022-04-11  Francês\n",
       "1   2    livro1  2023-01-03    pt-BR"
      ]
     },
     "execution_count": 6,
     "metadata": {},
     "output_type": "execute_result"
    }
   ],
   "source": [
    "df = pd.read_sql_query(\"SELECT * FROM publicacao\", con=conn)\n",
    "df"
   ]
  },
  {
   "attachments": {},
   "cell_type": "markdown",
   "metadata": {},
   "source": [
    "Pode-se ver que os dados inseridos na tabela filho apareceram na tabela pai automáticamente\n",
    "\n",
    "**HERANÇA DOWN-TOP**\n",
    "- para registros novos\n",
    "- de baixo pra cima, quando dados são inseridos na tabela filho, esses dados aparecem tbm na tabela pai"
   ]
  },
  {
   "attachments": {},
   "cell_type": "markdown",
   "metadata": {},
   "source": [
    "- se uma coluna for adicionada na tabela pai essa coluna é herdada pelos filhos"
   ]
  },
  {
   "cell_type": "code",
   "execution_count": null,
   "metadata": {
    "vscode": {
     "languageId": "sql"
    }
   },
   "outputs": [],
   "source": [
    "--add coluna de número de páginas\n",
    "ALTER TABLE publicacao\n",
    "ADD COLUMN nPaginas smallint;"
   ]
  }
 ],
 "metadata": {
  "kernelspec": {
   "display_name": "Python 3",
   "language": "python",
   "name": "python3"
  },
  "language_info": {
   "codemirror_mode": {
    "name": "ipython",
    "version": 3
   },
   "file_extension": ".py",
   "mimetype": "text/x-python",
   "name": "python",
   "nbconvert_exporter": "python",
   "pygments_lexer": "ipython3",
   "version": "3.10.9"
  },
  "orig_nbformat": 4,
  "vscode": {
   "interpreter": {
    "hash": "0b638b7dbb675c7855f88e6c22606685bdfdb7930c74e26bbb201fdeea169578"
   }
  }
 },
 "nbformat": 4,
 "nbformat_minor": 2
}
