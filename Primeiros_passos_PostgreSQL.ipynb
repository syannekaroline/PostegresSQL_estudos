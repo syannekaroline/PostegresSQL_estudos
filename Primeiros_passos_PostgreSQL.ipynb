{
 "cells": [
  {
   "attachments": {},
   "cell_type": "markdown",
   "metadata": {},
   "source": [
    "### Criando a conexão com o banco de dados\n"
   ]
  },
  {
   "cell_type": "code",
   "execution_count": 1,
   "metadata": {},
   "outputs": [],
   "source": [
    "import  os \n",
    "import  psycopg2  as  ps \n",
    "import  pandas  as  pd\n",
    "\n",
    "conn = ps.connect(\n",
    "    host=os.environ[\"db_host\"],\n",
    "    port=os.environ[\"db_port\"],\n",
    "    dbname=os.environ[\"db_name\"],\n",
    "    user=os.environ[\"db_user\"],\n",
    "    password=os.environ[\"db_password\"])\n",
    "\n"
   ]
  },
  {
   "attachments": {},
   "cell_type": "markdown",
   "metadata": {},
   "source": [
    "\n",
    "##### Comando de Ordenação\n",
    "\n",
    "##### ORDER BY"
   ]
  },
  {
   "attachments": {},
   "cell_type": "markdown",
   "metadata": {},
   "source": [
    "Sintaxe\n",
    "\n",
    "SELECT * FROM tabela\n",
    "ORDER BY coluna1 DESC;\n",
    "\n",
    "obs : pode-se ordenar os valores nulos deixando-os em primeiro ou pro último \n",
    "ex: SELECT nome_produto, descrição FROM produtos\n",
    "ORDER BY descrição NULLS FIRST | LAST;"
   ]
  },
  {
   "cell_type": "code",
   "execution_count": 8,
   "metadata": {},
   "outputs": [
    {
     "name": "stderr",
     "output_type": "stream",
     "text": [
      "C:\\Users\\syann\\AppData\\Local\\Temp\\ipykernel_11460\\2316577632.py:8: UserWarning: pandas only supports SQLAlchemy connectable (engine/connection) or database string URI or sqlite3 DBAPI2 connection. Other DBAPI2 objects are not tested. Please consider using SQLAlchemy.\n",
      "  df = pd.read_sql_query(\" SELECT * FROM products ORDER BY unit_price ASC;\", con=conn)\n"
     ]
    },
    {
     "data": {
      "text/html": [
       "<div>\n",
       "<style scoped>\n",
       "    .dataframe tbody tr th:only-of-type {\n",
       "        vertical-align: middle;\n",
       "    }\n",
       "\n",
       "    .dataframe tbody tr th {\n",
       "        vertical-align: top;\n",
       "    }\n",
       "\n",
       "    .dataframe thead th {\n",
       "        text-align: right;\n",
       "    }\n",
       "</style>\n",
       "<table border=\"1\" class=\"dataframe\">\n",
       "  <thead>\n",
       "    <tr style=\"text-align: right;\">\n",
       "      <th></th>\n",
       "      <th>product_id</th>\n",
       "      <th>product_name</th>\n",
       "      <th>supplier_id</th>\n",
       "      <th>category_id</th>\n",
       "      <th>quantity_per_unit</th>\n",
       "      <th>unit_price</th>\n",
       "      <th>units_in_stock</th>\n",
       "      <th>units_on_order</th>\n",
       "      <th>reorder_level</th>\n",
       "      <th>discontinued</th>\n",
       "    </tr>\n",
       "  </thead>\n",
       "  <tbody>\n",
       "    <tr>\n",
       "      <th>0</th>\n",
       "      <td>33</td>\n",
       "      <td>Geitost</td>\n",
       "      <td>15</td>\n",
       "      <td>4</td>\n",
       "      <td>500 g</td>\n",
       "      <td>2.50</td>\n",
       "      <td>112</td>\n",
       "      <td>0</td>\n",
       "      <td>20</td>\n",
       "      <td>0</td>\n",
       "    </tr>\n",
       "    <tr>\n",
       "      <th>1</th>\n",
       "      <td>24</td>\n",
       "      <td>Guaraná Fantástica</td>\n",
       "      <td>10</td>\n",
       "      <td>1</td>\n",
       "      <td>12 - 355 ml cans</td>\n",
       "      <td>4.50</td>\n",
       "      <td>20</td>\n",
       "      <td>0</td>\n",
       "      <td>0</td>\n",
       "      <td>1</td>\n",
       "    </tr>\n",
       "    <tr>\n",
       "      <th>2</th>\n",
       "      <td>13</td>\n",
       "      <td>Konbu</td>\n",
       "      <td>6</td>\n",
       "      <td>8</td>\n",
       "      <td>2 kg box</td>\n",
       "      <td>6.00</td>\n",
       "      <td>24</td>\n",
       "      <td>0</td>\n",
       "      <td>5</td>\n",
       "      <td>0</td>\n",
       "    </tr>\n",
       "    <tr>\n",
       "      <th>3</th>\n",
       "      <td>52</td>\n",
       "      <td>Filo Mix</td>\n",
       "      <td>24</td>\n",
       "      <td>5</td>\n",
       "      <td>16 - 2 kg boxes</td>\n",
       "      <td>7.00</td>\n",
       "      <td>38</td>\n",
       "      <td>0</td>\n",
       "      <td>25</td>\n",
       "      <td>0</td>\n",
       "    </tr>\n",
       "    <tr>\n",
       "      <th>4</th>\n",
       "      <td>54</td>\n",
       "      <td>Tourtière</td>\n",
       "      <td>25</td>\n",
       "      <td>6</td>\n",
       "      <td>16 pies</td>\n",
       "      <td>7.45</td>\n",
       "      <td>21</td>\n",
       "      <td>0</td>\n",
       "      <td>10</td>\n",
       "      <td>0</td>\n",
       "    </tr>\n",
       "    <tr>\n",
       "      <th>...</th>\n",
       "      <td>...</td>\n",
       "      <td>...</td>\n",
       "      <td>...</td>\n",
       "      <td>...</td>\n",
       "      <td>...</td>\n",
       "      <td>...</td>\n",
       "      <td>...</td>\n",
       "      <td>...</td>\n",
       "      <td>...</td>\n",
       "      <td>...</td>\n",
       "    </tr>\n",
       "    <tr>\n",
       "      <th>72</th>\n",
       "      <td>18</td>\n",
       "      <td>Carnarvon Tigers</td>\n",
       "      <td>7</td>\n",
       "      <td>8</td>\n",
       "      <td>16 kg pkg.</td>\n",
       "      <td>62.50</td>\n",
       "      <td>42</td>\n",
       "      <td>0</td>\n",
       "      <td>0</td>\n",
       "      <td>0</td>\n",
       "    </tr>\n",
       "    <tr>\n",
       "      <th>73</th>\n",
       "      <td>20</td>\n",
       "      <td>Sir Rodney's Marmalade</td>\n",
       "      <td>8</td>\n",
       "      <td>3</td>\n",
       "      <td>30 gift boxes</td>\n",
       "      <td>81.00</td>\n",
       "      <td>40</td>\n",
       "      <td>0</td>\n",
       "      <td>0</td>\n",
       "      <td>0</td>\n",
       "    </tr>\n",
       "    <tr>\n",
       "      <th>74</th>\n",
       "      <td>9</td>\n",
       "      <td>Mishi Kobe Niku</td>\n",
       "      <td>4</td>\n",
       "      <td>6</td>\n",
       "      <td>18 - 500 g pkgs.</td>\n",
       "      <td>97.00</td>\n",
       "      <td>29</td>\n",
       "      <td>0</td>\n",
       "      <td>0</td>\n",
       "      <td>1</td>\n",
       "    </tr>\n",
       "    <tr>\n",
       "      <th>75</th>\n",
       "      <td>29</td>\n",
       "      <td>Thüringer Rostbratwurst</td>\n",
       "      <td>12</td>\n",
       "      <td>6</td>\n",
       "      <td>50 bags x 30 sausgs.</td>\n",
       "      <td>123.79</td>\n",
       "      <td>0</td>\n",
       "      <td>0</td>\n",
       "      <td>0</td>\n",
       "      <td>1</td>\n",
       "    </tr>\n",
       "    <tr>\n",
       "      <th>76</th>\n",
       "      <td>38</td>\n",
       "      <td>Côte de Blaye</td>\n",
       "      <td>18</td>\n",
       "      <td>1</td>\n",
       "      <td>12 - 75 cl bottles</td>\n",
       "      <td>263.50</td>\n",
       "      <td>17</td>\n",
       "      <td>0</td>\n",
       "      <td>15</td>\n",
       "      <td>0</td>\n",
       "    </tr>\n",
       "  </tbody>\n",
       "</table>\n",
       "<p>77 rows × 10 columns</p>\n",
       "</div>"
      ],
      "text/plain": [
       "    product_id             product_name  supplier_id  category_id  \\\n",
       "0           33                  Geitost           15            4   \n",
       "1           24       Guaraná Fantástica           10            1   \n",
       "2           13                    Konbu            6            8   \n",
       "3           52                 Filo Mix           24            5   \n",
       "4           54                Tourtière           25            6   \n",
       "..         ...                      ...          ...          ...   \n",
       "72          18         Carnarvon Tigers            7            8   \n",
       "73          20   Sir Rodney's Marmalade            8            3   \n",
       "74           9          Mishi Kobe Niku            4            6   \n",
       "75          29  Thüringer Rostbratwurst           12            6   \n",
       "76          38            Côte de Blaye           18            1   \n",
       "\n",
       "       quantity_per_unit  unit_price  units_in_stock  units_on_order  \\\n",
       "0                  500 g        2.50             112               0   \n",
       "1       12 - 355 ml cans        4.50              20               0   \n",
       "2               2 kg box        6.00              24               0   \n",
       "3        16 - 2 kg boxes        7.00              38               0   \n",
       "4                16 pies        7.45              21               0   \n",
       "..                   ...         ...             ...             ...   \n",
       "72            16 kg pkg.       62.50              42               0   \n",
       "73         30 gift boxes       81.00              40               0   \n",
       "74      18 - 500 g pkgs.       97.00              29               0   \n",
       "75  50 bags x 30 sausgs.      123.79               0               0   \n",
       "76    12 - 75 cl bottles      263.50              17               0   \n",
       "\n",
       "    reorder_level  discontinued  \n",
       "0              20             0  \n",
       "1               0             1  \n",
       "2               5             0  \n",
       "3              25             0  \n",
       "4              10             0  \n",
       "..            ...           ...  \n",
       "72              0             0  \n",
       "73              0             0  \n",
       "74              0             1  \n",
       "75              0             1  \n",
       "76             15             0  \n",
       "\n",
       "[77 rows x 10 columns]"
      ]
     },
     "execution_count": 8,
     "metadata": {},
     "output_type": "execute_result"
    }
   ],
   "source": [
    "'''-- Consulta 5: Ordene a tabela de produtos do maior para o menor preço (e vice versa)\n",
    "\n",
    "\n",
    "SELECT * FROM products\n",
    "ORDER BY unit_price ASC;\n",
    "\n",
    "'''\n",
    "df = pd.read_sql_query(\" SELECT * FROM products ORDER BY unit_price ASC;\", con=conn)\n",
    "df"
   ]
  },
  {
   "cell_type": "code",
   "execution_count": 9,
   "metadata": {},
   "outputs": [
    {
     "name": "stderr",
     "output_type": "stream",
     "text": [
      "C:\\Users\\syann\\AppData\\Local\\Temp\\ipykernel_11460\\1527289908.py:2: UserWarning: pandas only supports SQLAlchemy connectable (engine/connection) or database string URI or sqlite3 DBAPI2 connection. Other DBAPI2 objects are not tested. Please consider using SQLAlchemy.\n",
      "  df = pd.read_sql_query(\" SELECT first_name, last_name FROM employees ORDER BY first_name, last_name;\", con=conn)\n"
     ]
    },
    {
     "data": {
      "text/html": [
       "<div>\n",
       "<style scoped>\n",
       "    .dataframe tbody tr th:only-of-type {\n",
       "        vertical-align: middle;\n",
       "    }\n",
       "\n",
       "    .dataframe tbody tr th {\n",
       "        vertical-align: top;\n",
       "    }\n",
       "\n",
       "    .dataframe thead th {\n",
       "        text-align: right;\n",
       "    }\n",
       "</style>\n",
       "<table border=\"1\" class=\"dataframe\">\n",
       "  <thead>\n",
       "    <tr style=\"text-align: right;\">\n",
       "      <th></th>\n",
       "      <th>first_name</th>\n",
       "      <th>last_name</th>\n",
       "    </tr>\n",
       "  </thead>\n",
       "  <tbody>\n",
       "    <tr>\n",
       "      <th>0</th>\n",
       "      <td>Andrew</td>\n",
       "      <td>Fuller</td>\n",
       "    </tr>\n",
       "    <tr>\n",
       "      <th>1</th>\n",
       "      <td>Anne</td>\n",
       "      <td>Dodsworth</td>\n",
       "    </tr>\n",
       "    <tr>\n",
       "      <th>2</th>\n",
       "      <td>Janet</td>\n",
       "      <td>Leverling</td>\n",
       "    </tr>\n",
       "    <tr>\n",
       "      <th>3</th>\n",
       "      <td>Laura</td>\n",
       "      <td>Callahan</td>\n",
       "    </tr>\n",
       "    <tr>\n",
       "      <th>4</th>\n",
       "      <td>Margaret</td>\n",
       "      <td>Peacock</td>\n",
       "    </tr>\n",
       "    <tr>\n",
       "      <th>5</th>\n",
       "      <td>Michael</td>\n",
       "      <td>Suyama</td>\n",
       "    </tr>\n",
       "    <tr>\n",
       "      <th>6</th>\n",
       "      <td>Nancy</td>\n",
       "      <td>Davolio</td>\n",
       "    </tr>\n",
       "    <tr>\n",
       "      <th>7</th>\n",
       "      <td>Robert</td>\n",
       "      <td>King</td>\n",
       "    </tr>\n",
       "    <tr>\n",
       "      <th>8</th>\n",
       "      <td>Steven</td>\n",
       "      <td>Buchanan</td>\n",
       "    </tr>\n",
       "  </tbody>\n",
       "</table>\n",
       "</div>"
      ],
      "text/plain": [
       "  first_name  last_name\n",
       "0     Andrew     Fuller\n",
       "1       Anne  Dodsworth\n",
       "2      Janet  Leverling\n",
       "3      Laura   Callahan\n",
       "4   Margaret    Peacock\n",
       "5    Michael     Suyama\n",
       "6      Nancy    Davolio\n",
       "7     Robert       King\n",
       "8     Steven   Buchanan"
      ]
     },
     "execution_count": 9,
     "metadata": {},
     "output_type": "execute_result"
    }
   ],
   "source": [
    "#Consulta 6: Ordene a Consulta 4 em ordem alfabética de nomes (first_name + last_name)\n",
    "df = pd.read_sql_query(\" SELECT first_name, last_name FROM employees ORDER BY first_name, last_name;\", con=conn)\n",
    "df"
   ]
  },
  {
   "attachments": {},
   "cell_type": "markdown",
   "metadata": {},
   "source": [
    "##### Funções de Agregação no PostgreSQL\n",
    "###### Computar um valor ÚNICO a partir de um conjunto de valores de entrada\n",
    "\n",
    "Funções básicas de agregação:\n",
    "\n",
    "- CONT - contagem de itens\n",
    "- MAX - valor máximo\n",
    "- MIN - valor min\n",
    "- AVG - valor médio\n",
    "- SUM - somatório"
   ]
  },
  {
   "cell_type": "code",
   "execution_count": 10,
   "metadata": {
    "vscode": {
     "languageId": "sql"
    }
   },
   "outputs": [],
   "source": [
    "# SELECT COUNT(*) as \"Qtde Clientes\" FROM customers\n",
    "# SELECT COUNT(contact_name) FROM customers;\n",
    "# tem diferença pois sem o * não são considerados os valores nulos\n"
   ]
  },
  {
   "cell_type": "code",
   "execution_count": 11,
   "metadata": {},
   "outputs": [
    {
     "name": "stderr",
     "output_type": "stream",
     "text": [
      "C:\\Users\\syann\\AppData\\Local\\Temp\\ipykernel_11460\\273173704.py:1: UserWarning: pandas only supports SQLAlchemy connectable (engine/connection) or database string URI or sqlite3 DBAPI2 connection. Other DBAPI2 objects are not tested. Please consider using SQLAlchemy.\n",
      "  df = pd.read_sql_query(\" SELECT COUNT(contact_name) FROM customers;\", con=conn)\n"
     ]
    },
    {
     "data": {
      "text/html": [
       "<div>\n",
       "<style scoped>\n",
       "    .dataframe tbody tr th:only-of-type {\n",
       "        vertical-align: middle;\n",
       "    }\n",
       "\n",
       "    .dataframe tbody tr th {\n",
       "        vertical-align: top;\n",
       "    }\n",
       "\n",
       "    .dataframe thead th {\n",
       "        text-align: right;\n",
       "    }\n",
       "</style>\n",
       "<table border=\"1\" class=\"dataframe\">\n",
       "  <thead>\n",
       "    <tr style=\"text-align: right;\">\n",
       "      <th></th>\n",
       "      <th>count</th>\n",
       "    </tr>\n",
       "  </thead>\n",
       "  <tbody>\n",
       "    <tr>\n",
       "      <th>0</th>\n",
       "      <td>91</td>\n",
       "    </tr>\n",
       "  </tbody>\n",
       "</table>\n",
       "</div>"
      ],
      "text/plain": [
       "   count\n",
       "0     91"
      ]
     },
     "execution_count": 11,
     "metadata": {},
     "output_type": "execute_result"
    }
   ],
   "source": [
    "df = pd.read_sql_query(\" SELECT COUNT(contact_name) FROM customers;\", con=conn)\n",
    "df"
   ]
  },
  {
   "attachments": {},
   "cell_type": "markdown",
   "metadata": {},
   "source": [
    "##### pode- se usar DISTINCT pra filtrar apenas os valores diferentes entre si\n",
    "###### SELECT COUNT (DISTINCT contact_title) FROM customers"
   ]
  },
  {
   "cell_type": "code",
   "execution_count": 12,
   "metadata": {},
   "outputs": [
    {
     "name": "stderr",
     "output_type": "stream",
     "text": [
      "C:\\Users\\syann\\AppData\\Local\\Temp\\ipykernel_11460\\626339439.py:1: UserWarning: pandas only supports SQLAlchemy connectable (engine/connection) or database string URI or sqlite3 DBAPI2 connection. Other DBAPI2 objects are not tested. Please consider using SQLAlchemy.\n",
      "  df = pd.read_sql_query(\"SELECT contact_name, contact_title FROM customers;\", con=conn)\n"
     ]
    },
    {
     "data": {
      "text/html": [
       "<div>\n",
       "<style scoped>\n",
       "    .dataframe tbody tr th:only-of-type {\n",
       "        vertical-align: middle;\n",
       "    }\n",
       "\n",
       "    .dataframe tbody tr th {\n",
       "        vertical-align: top;\n",
       "    }\n",
       "\n",
       "    .dataframe thead th {\n",
       "        text-align: right;\n",
       "    }\n",
       "</style>\n",
       "<table border=\"1\" class=\"dataframe\">\n",
       "  <thead>\n",
       "    <tr style=\"text-align: right;\">\n",
       "      <th></th>\n",
       "      <th>contact_name</th>\n",
       "      <th>contact_title</th>\n",
       "    </tr>\n",
       "  </thead>\n",
       "  <tbody>\n",
       "    <tr>\n",
       "      <th>0</th>\n",
       "      <td>Maria Anders</td>\n",
       "      <td>Sales Representative</td>\n",
       "    </tr>\n",
       "    <tr>\n",
       "      <th>1</th>\n",
       "      <td>Ana Trujillo</td>\n",
       "      <td>Owner</td>\n",
       "    </tr>\n",
       "    <tr>\n",
       "      <th>2</th>\n",
       "      <td>Antonio Moreno</td>\n",
       "      <td>Owner</td>\n",
       "    </tr>\n",
       "    <tr>\n",
       "      <th>3</th>\n",
       "      <td>Thomas Hardy</td>\n",
       "      <td>Sales Representative</td>\n",
       "    </tr>\n",
       "    <tr>\n",
       "      <th>4</th>\n",
       "      <td>Christina Berglund</td>\n",
       "      <td>Order Administrator</td>\n",
       "    </tr>\n",
       "    <tr>\n",
       "      <th>...</th>\n",
       "      <td>...</td>\n",
       "      <td>...</td>\n",
       "    </tr>\n",
       "    <tr>\n",
       "      <th>86</th>\n",
       "      <td>Pirkko Koskitalo</td>\n",
       "      <td>Accounting Manager</td>\n",
       "    </tr>\n",
       "    <tr>\n",
       "      <th>87</th>\n",
       "      <td>Paula Parente</td>\n",
       "      <td>Sales Manager</td>\n",
       "    </tr>\n",
       "    <tr>\n",
       "      <th>88</th>\n",
       "      <td>Karl Jablonski</td>\n",
       "      <td>Owner</td>\n",
       "    </tr>\n",
       "    <tr>\n",
       "      <th>89</th>\n",
       "      <td>Matti Karttunen</td>\n",
       "      <td>Owner/Marketing Assistant</td>\n",
       "    </tr>\n",
       "    <tr>\n",
       "      <th>90</th>\n",
       "      <td>Zbyszek Piestrzeniewicz</td>\n",
       "      <td>Owner</td>\n",
       "    </tr>\n",
       "  </tbody>\n",
       "</table>\n",
       "<p>91 rows × 2 columns</p>\n",
       "</div>"
      ],
      "text/plain": [
       "               contact_name              contact_title\n",
       "0              Maria Anders       Sales Representative\n",
       "1              Ana Trujillo                      Owner\n",
       "2            Antonio Moreno                      Owner\n",
       "3              Thomas Hardy       Sales Representative\n",
       "4        Christina Berglund        Order Administrator\n",
       "..                      ...                        ...\n",
       "86         Pirkko Koskitalo         Accounting Manager\n",
       "87            Paula Parente              Sales Manager\n",
       "88           Karl Jablonski                      Owner\n",
       "89          Matti Karttunen  Owner/Marketing Assistant\n",
       "90  Zbyszek Piestrzeniewicz                      Owner\n",
       "\n",
       "[91 rows x 2 columns]"
      ]
     },
     "execution_count": 12,
     "metadata": {},
     "output_type": "execute_result"
    }
   ],
   "source": [
    "df = pd.read_sql_query(\"SELECT contact_name, contact_title FROM customers;\", con=conn)\n",
    "df"
   ]
  },
  {
   "cell_type": "code",
   "execution_count": 13,
   "metadata": {},
   "outputs": [
    {
     "name": "stderr",
     "output_type": "stream",
     "text": [
      "C:\\Users\\syann\\AppData\\Local\\Temp\\ipykernel_11460\\2107020163.py:2: UserWarning: pandas only supports SQLAlchemy connectable (engine/connection) or database string URI or sqlite3 DBAPI2 connection. Other DBAPI2 objects are not tested. Please consider using SQLAlchemy.\n",
      "  df = pd.read_sql_query(\"SELECT COUNT (DISTINCT contact_title) FROM customers;\", con=conn)\n"
     ]
    },
    {
     "data": {
      "text/html": [
       "<div>\n",
       "<style scoped>\n",
       "    .dataframe tbody tr th:only-of-type {\n",
       "        vertical-align: middle;\n",
       "    }\n",
       "\n",
       "    .dataframe tbody tr th {\n",
       "        vertical-align: top;\n",
       "    }\n",
       "\n",
       "    .dataframe thead th {\n",
       "        text-align: right;\n",
       "    }\n",
       "</style>\n",
       "<table border=\"1\" class=\"dataframe\">\n",
       "  <thead>\n",
       "    <tr style=\"text-align: right;\">\n",
       "      <th></th>\n",
       "      <th>count</th>\n",
       "    </tr>\n",
       "  </thead>\n",
       "  <tbody>\n",
       "    <tr>\n",
       "      <th>0</th>\n",
       "      <td>12</td>\n",
       "    </tr>\n",
       "  </tbody>\n",
       "</table>\n",
       "</div>"
      ],
      "text/plain": [
       "   count\n",
       "0     12"
      ]
     },
     "execution_count": 13,
     "metadata": {},
     "output_type": "execute_result"
    }
   ],
   "source": [
    "# contar quantos titulos de contato existem pros clientes\n",
    "df = pd.read_sql_query(\"SELECT COUNT (DISTINCT contact_title) FROM customers;\", con=conn)\n",
    "df"
   ]
  },
  {
   "cell_type": "code",
   "execution_count": 14,
   "metadata": {},
   "outputs": [
    {
     "name": "stderr",
     "output_type": "stream",
     "text": [
      "C:\\Users\\syann\\AppData\\Local\\Temp\\ipykernel_11460\\3204654182.py:2: UserWarning: pandas only supports SQLAlchemy connectable (engine/connection) or database string URI or sqlite3 DBAPI2 connection. Other DBAPI2 objects are not tested. Please consider using SQLAlchemy.\n",
      "  df = pd.read_sql_query(\"SELECT COUNT (*) FROM products WHERE unit_price >= 100;\", con=conn)\n"
     ]
    },
    {
     "data": {
      "text/html": [
       "<div>\n",
       "<style scoped>\n",
       "    .dataframe tbody tr th:only-of-type {\n",
       "        vertical-align: middle;\n",
       "    }\n",
       "\n",
       "    .dataframe tbody tr th {\n",
       "        vertical-align: top;\n",
       "    }\n",
       "\n",
       "    .dataframe thead th {\n",
       "        text-align: right;\n",
       "    }\n",
       "</style>\n",
       "<table border=\"1\" class=\"dataframe\">\n",
       "  <thead>\n",
       "    <tr style=\"text-align: right;\">\n",
       "      <th></th>\n",
       "      <th>count</th>\n",
       "    </tr>\n",
       "  </thead>\n",
       "  <tbody>\n",
       "    <tr>\n",
       "      <th>0</th>\n",
       "      <td>2</td>\n",
       "    </tr>\n",
       "  </tbody>\n",
       "</table>\n",
       "</div>"
      ],
      "text/plain": [
       "   count\n",
       "0      2"
      ]
     },
     "execution_count": 14,
     "metadata": {},
     "output_type": "execute_result"
    }
   ],
   "source": [
    "# contar quantos produtos tem valo maior que 100 reais\n",
    "df = pd.read_sql_query(\"SELECT COUNT (*) FROM products WHERE unit_price >= 100;\", con=conn)\n",
    "df"
   ]
  },
  {
   "cell_type": "code",
   "execution_count": 15,
   "metadata": {},
   "outputs": [
    {
     "name": "stderr",
     "output_type": "stream",
     "text": [
      "C:\\Users\\syann\\AppData\\Local\\Temp\\ipykernel_11460\\617061965.py:2: UserWarning: pandas only supports SQLAlchemy connectable (engine/connection) or database string URI or sqlite3 DBAPI2 connection. Other DBAPI2 objects are not tested. Please consider using SQLAlchemy.\n",
      "  df = pd.read_sql_query(\"SELECT MAX(unit_price) FROM products;\", con=conn)\n"
     ]
    },
    {
     "data": {
      "text/html": [
       "<div>\n",
       "<style scoped>\n",
       "    .dataframe tbody tr th:only-of-type {\n",
       "        vertical-align: middle;\n",
       "    }\n",
       "\n",
       "    .dataframe tbody tr th {\n",
       "        vertical-align: top;\n",
       "    }\n",
       "\n",
       "    .dataframe thead th {\n",
       "        text-align: right;\n",
       "    }\n",
       "</style>\n",
       "<table border=\"1\" class=\"dataframe\">\n",
       "  <thead>\n",
       "    <tr style=\"text-align: right;\">\n",
       "      <th></th>\n",
       "      <th>max</th>\n",
       "    </tr>\n",
       "  </thead>\n",
       "  <tbody>\n",
       "    <tr>\n",
       "      <th>0</th>\n",
       "      <td>263.5</td>\n",
       "    </tr>\n",
       "  </tbody>\n",
       "</table>\n",
       "</div>"
      ],
      "text/plain": [
       "     max\n",
       "0  263.5"
      ]
     },
     "execution_count": 15,
     "metadata": {},
     "output_type": "execute_result"
    }
   ],
   "source": [
    "# Mostrar o preço mais caro entre os produtos\n",
    "df = pd.read_sql_query(\"SELECT MAX(unit_price) FROM products;\", con=conn)\n",
    "df"
   ]
  },
  {
   "cell_type": "code",
   "execution_count": 16,
   "metadata": {},
   "outputs": [
    {
     "name": "stderr",
     "output_type": "stream",
     "text": [
      "C:\\Users\\syann\\AppData\\Local\\Temp\\ipykernel_11460\\1744754637.py:2: UserWarning: pandas only supports SQLAlchemy connectable (engine/connection) or database string URI or sqlite3 DBAPI2 connection. Other DBAPI2 objects are not tested. Please consider using SQLAlchemy.\n",
      "  df = pd.read_sql_query(\"SELECT MIN(unit_price) FROM products;\", con=conn)\n"
     ]
    },
    {
     "data": {
      "text/html": [
       "<div>\n",
       "<style scoped>\n",
       "    .dataframe tbody tr th:only-of-type {\n",
       "        vertical-align: middle;\n",
       "    }\n",
       "\n",
       "    .dataframe tbody tr th {\n",
       "        vertical-align: top;\n",
       "    }\n",
       "\n",
       "    .dataframe thead th {\n",
       "        text-align: right;\n",
       "    }\n",
       "</style>\n",
       "<table border=\"1\" class=\"dataframe\">\n",
       "  <thead>\n",
       "    <tr style=\"text-align: right;\">\n",
       "      <th></th>\n",
       "      <th>min</th>\n",
       "    </tr>\n",
       "  </thead>\n",
       "  <tbody>\n",
       "    <tr>\n",
       "      <th>0</th>\n",
       "      <td>2.5</td>\n",
       "    </tr>\n",
       "  </tbody>\n",
       "</table>\n",
       "</div>"
      ],
      "text/plain": [
       "   min\n",
       "0  2.5"
      ]
     },
     "execution_count": 16,
     "metadata": {},
     "output_type": "execute_result"
    }
   ],
   "source": [
    "# mostrar o menor preço entre os produtos\n",
    "df = pd.read_sql_query(\"SELECT MIN(unit_price) FROM products;\", con=conn)\n",
    "df"
   ]
  },
  {
   "cell_type": "code",
   "execution_count": 17,
   "metadata": {},
   "outputs": [
    {
     "name": "stderr",
     "output_type": "stream",
     "text": [
      "C:\\Users\\syann\\AppData\\Local\\Temp\\ipykernel_11460\\157999637.py:2: UserWarning: pandas only supports SQLAlchemy connectable (engine/connection) or database string URI or sqlite3 DBAPI2 connection. Other DBAPI2 objects are not tested. Please consider using SQLAlchemy.\n",
      "  df = pd.read_sql_query(\"SELECT SUM(unit_price) FROM products;\", con=conn)\n"
     ]
    },
    {
     "data": {
      "text/html": [
       "<div>\n",
       "<style scoped>\n",
       "    .dataframe tbody tr th:only-of-type {\n",
       "        vertical-align: middle;\n",
       "    }\n",
       "\n",
       "    .dataframe tbody tr th {\n",
       "        vertical-align: top;\n",
       "    }\n",
       "\n",
       "    .dataframe thead th {\n",
       "        text-align: right;\n",
       "    }\n",
       "</style>\n",
       "<table border=\"1\" class=\"dataframe\">\n",
       "  <thead>\n",
       "    <tr style=\"text-align: right;\">\n",
       "      <th></th>\n",
       "      <th>sum</th>\n",
       "    </tr>\n",
       "  </thead>\n",
       "  <tbody>\n",
       "    <tr>\n",
       "      <th>0</th>\n",
       "      <td>2220.2102</td>\n",
       "    </tr>\n",
       "  </tbody>\n",
       "</table>\n",
       "</div>"
      ],
      "text/plain": [
       "         sum\n",
       "0  2220.2102"
      ]
     },
     "execution_count": 17,
     "metadata": {},
     "output_type": "execute_result"
    }
   ],
   "source": [
    "# quando vai gastar uma pessoa que comprar uma unidade de cada produto ?\n",
    "df = pd.read_sql_query(\"SELECT SUM(unit_price) FROM products;\", con=conn)\n",
    "df"
   ]
  },
  {
   "cell_type": "code",
   "execution_count": 18,
   "metadata": {},
   "outputs": [
    {
     "name": "stderr",
     "output_type": "stream",
     "text": [
      "C:\\Users\\syann\\AppData\\Local\\Temp\\ipykernel_11460\\3774307071.py:2: UserWarning: pandas only supports SQLAlchemy connectable (engine/connection) or database string URI or sqlite3 DBAPI2 connection. Other DBAPI2 objects are not tested. Please consider using SQLAlchemy.\n",
      "  df = pd.read_sql_query(\"SELECT AVG(unit_price) FROM products;\", con=conn)\n"
     ]
    },
    {
     "data": {
      "text/html": [
       "<div>\n",
       "<style scoped>\n",
       "    .dataframe tbody tr th:only-of-type {\n",
       "        vertical-align: middle;\n",
       "    }\n",
       "\n",
       "    .dataframe tbody tr th {\n",
       "        vertical-align: top;\n",
       "    }\n",
       "\n",
       "    .dataframe thead th {\n",
       "        text-align: right;\n",
       "    }\n",
       "</style>\n",
       "<table border=\"1\" class=\"dataframe\">\n",
       "  <thead>\n",
       "    <tr style=\"text-align: right;\">\n",
       "      <th></th>\n",
       "      <th>avg</th>\n",
       "    </tr>\n",
       "  </thead>\n",
       "  <tbody>\n",
       "    <tr>\n",
       "      <th>0</th>\n",
       "      <td>28.833896</td>\n",
       "    </tr>\n",
       "  </tbody>\n",
       "</table>\n",
       "</div>"
      ],
      "text/plain": [
       "         avg\n",
       "0  28.833896"
      ]
     },
     "execution_count": 18,
     "metadata": {},
     "output_type": "execute_result"
    }
   ],
   "source": [
    "# qual a média do preço dos produtos?\n",
    "df = pd.read_sql_query(\"SELECT AVG(unit_price) FROM products;\", con=conn)\n",
    "df"
   ]
  },
  {
   "attachments": {},
   "cell_type": "markdown",
   "metadata": {},
   "source": [
    "##### Aliases com cláusulas AS\n",
    "Pode-se dar um nome diferente a uma coluna ou tabela ao realizar uma conulta usando um alias\n",
    "\n",
    "##### SINTAXE\n",
    "- SELECT coluna AS alias_coluna1,\n",
    "\n",
    "\n",
    "coluna2 AS \"alias coluna2\", \n",
    "\n",
    "\n",
    "colunaN \"alias colunaN\",\n",
    "\n",
    "\n",
    "FROM tabela AS alias_tabela;\n",
    "\n",
    "###### obs : aspas simples são opcionais se não houver espaços e AS é opcional."
   ]
  },
  {
   "cell_type": "code",
   "execution_count": 19,
   "metadata": {},
   "outputs": [
    {
     "name": "stderr",
     "output_type": "stream",
     "text": [
      "C:\\Users\\syann\\AppData\\Local\\Temp\\ipykernel_11460\\2102935691.py:1: UserWarning: pandas only supports SQLAlchemy connectable (engine/connection) or database string URI or sqlite3 DBAPI2 connection. Other DBAPI2 objects are not tested. Please consider using SQLAlchemy.\n",
      "  df = pd.read_sql_query(\"SELECT product_name AS produtos FROM products;\", con=conn)\n"
     ]
    },
    {
     "data": {
      "text/html": [
       "<div>\n",
       "<style scoped>\n",
       "    .dataframe tbody tr th:only-of-type {\n",
       "        vertical-align: middle;\n",
       "    }\n",
       "\n",
       "    .dataframe tbody tr th {\n",
       "        vertical-align: top;\n",
       "    }\n",
       "\n",
       "    .dataframe thead th {\n",
       "        text-align: right;\n",
       "    }\n",
       "</style>\n",
       "<table border=\"1\" class=\"dataframe\">\n",
       "  <thead>\n",
       "    <tr style=\"text-align: right;\">\n",
       "      <th></th>\n",
       "      <th>produtos</th>\n",
       "    </tr>\n",
       "  </thead>\n",
       "  <tbody>\n",
       "    <tr>\n",
       "      <th>0</th>\n",
       "      <td>Chai</td>\n",
       "    </tr>\n",
       "    <tr>\n",
       "      <th>1</th>\n",
       "      <td>Chang</td>\n",
       "    </tr>\n",
       "    <tr>\n",
       "      <th>2</th>\n",
       "      <td>Aniseed Syrup</td>\n",
       "    </tr>\n",
       "    <tr>\n",
       "      <th>3</th>\n",
       "      <td>Chef Anton's Cajun Seasoning</td>\n",
       "    </tr>\n",
       "    <tr>\n",
       "      <th>4</th>\n",
       "      <td>Chef Anton's Gumbo Mix</td>\n",
       "    </tr>\n",
       "    <tr>\n",
       "      <th>...</th>\n",
       "      <td>...</td>\n",
       "    </tr>\n",
       "    <tr>\n",
       "      <th>72</th>\n",
       "      <td>Röd Kaviar</td>\n",
       "    </tr>\n",
       "    <tr>\n",
       "      <th>73</th>\n",
       "      <td>Longlife Tofu</td>\n",
       "    </tr>\n",
       "    <tr>\n",
       "      <th>74</th>\n",
       "      <td>Rhönbräu Klosterbier</td>\n",
       "    </tr>\n",
       "    <tr>\n",
       "      <th>75</th>\n",
       "      <td>Lakkalikööri</td>\n",
       "    </tr>\n",
       "    <tr>\n",
       "      <th>76</th>\n",
       "      <td>Original Frankfurter grüne Soße</td>\n",
       "    </tr>\n",
       "  </tbody>\n",
       "</table>\n",
       "<p>77 rows × 1 columns</p>\n",
       "</div>"
      ],
      "text/plain": [
       "                           produtos\n",
       "0                              Chai\n",
       "1                             Chang\n",
       "2                     Aniseed Syrup\n",
       "3      Chef Anton's Cajun Seasoning\n",
       "4            Chef Anton's Gumbo Mix\n",
       "..                              ...\n",
       "72                       Röd Kaviar\n",
       "73                    Longlife Tofu\n",
       "74             Rhönbräu Klosterbier\n",
       "75                     Lakkalikööri\n",
       "76  Original Frankfurter grüne Soße\n",
       "\n",
       "[77 rows x 1 columns]"
      ]
     },
     "execution_count": 19,
     "metadata": {},
     "output_type": "execute_result"
    }
   ],
   "source": [
    "df = pd.read_sql_query(\"SELECT product_name AS produtos FROM products;\", con=conn)\n",
    "df"
   ]
  },
  {
   "cell_type": "code",
   "execution_count": 20,
   "metadata": {},
   "outputs": [
    {
     "name": "stderr",
     "output_type": "stream",
     "text": [
      "C:\\Users\\syann\\AppData\\Local\\Temp\\ipykernel_11460\\3668715235.py:2: UserWarning: pandas only supports SQLAlchemy connectable (engine/connection) or database string URI or sqlite3 DBAPI2 connection. Other DBAPI2 objects are not tested. Please consider using SQLAlchemy.\n",
      "  df = pd.read_sql_query(\"SELECT first_name AS nome, last_name AS sobrenome FROM employees ORDER BY nome,sobrenome;\", con=conn)\n"
     ]
    },
    {
     "data": {
      "text/html": [
       "<div>\n",
       "<style scoped>\n",
       "    .dataframe tbody tr th:only-of-type {\n",
       "        vertical-align: middle;\n",
       "    }\n",
       "\n",
       "    .dataframe tbody tr th {\n",
       "        vertical-align: top;\n",
       "    }\n",
       "\n",
       "    .dataframe thead th {\n",
       "        text-align: right;\n",
       "    }\n",
       "</style>\n",
       "<table border=\"1\" class=\"dataframe\">\n",
       "  <thead>\n",
       "    <tr style=\"text-align: right;\">\n",
       "      <th></th>\n",
       "      <th>nome</th>\n",
       "      <th>sobrenome</th>\n",
       "    </tr>\n",
       "  </thead>\n",
       "  <tbody>\n",
       "    <tr>\n",
       "      <th>0</th>\n",
       "      <td>Andrew</td>\n",
       "      <td>Fuller</td>\n",
       "    </tr>\n",
       "    <tr>\n",
       "      <th>1</th>\n",
       "      <td>Anne</td>\n",
       "      <td>Dodsworth</td>\n",
       "    </tr>\n",
       "    <tr>\n",
       "      <th>2</th>\n",
       "      <td>Janet</td>\n",
       "      <td>Leverling</td>\n",
       "    </tr>\n",
       "    <tr>\n",
       "      <th>3</th>\n",
       "      <td>Laura</td>\n",
       "      <td>Callahan</td>\n",
       "    </tr>\n",
       "    <tr>\n",
       "      <th>4</th>\n",
       "      <td>Margaret</td>\n",
       "      <td>Peacock</td>\n",
       "    </tr>\n",
       "    <tr>\n",
       "      <th>5</th>\n",
       "      <td>Michael</td>\n",
       "      <td>Suyama</td>\n",
       "    </tr>\n",
       "    <tr>\n",
       "      <th>6</th>\n",
       "      <td>Nancy</td>\n",
       "      <td>Davolio</td>\n",
       "    </tr>\n",
       "    <tr>\n",
       "      <th>7</th>\n",
       "      <td>Robert</td>\n",
       "      <td>King</td>\n",
       "    </tr>\n",
       "    <tr>\n",
       "      <th>8</th>\n",
       "      <td>Steven</td>\n",
       "      <td>Buchanan</td>\n",
       "    </tr>\n",
       "  </tbody>\n",
       "</table>\n",
       "</div>"
      ],
      "text/plain": [
       "       nome  sobrenome\n",
       "0    Andrew     Fuller\n",
       "1      Anne  Dodsworth\n",
       "2     Janet  Leverling\n",
       "3     Laura   Callahan\n",
       "4  Margaret    Peacock\n",
       "5   Michael     Suyama\n",
       "6     Nancy    Davolio\n",
       "7    Robert       King\n",
       "8    Steven   Buchanan"
      ]
     },
     "execution_count": 20,
     "metadata": {},
     "output_type": "execute_result"
    }
   ],
   "source": [
    "# mostrar o nome e sobrenome dos funcionários em ordem alfabética\n",
    "df = pd.read_sql_query(\"SELECT first_name AS nome, last_name AS sobrenome FROM employees ORDER BY nome,sobrenome;\", con=conn)\n",
    "df"
   ]
  },
  {
   "attachments": {},
   "cell_type": "markdown",
   "metadata": {},
   "source": [
    "#### INNER JOIN\n",
    "##### Consultas em duas ou mais tabelas\n",
    "\n",
    "cláusas JOIN(junções) são usadas pra combinar dados proveniente de duas ou mais tabelas em um único conjunto de resultados, baseado em condições de join  especificadas, desde que existam relações entre as tabelas cnosultadas\n",
    "\n",
    "##### JOIN - CATEGORIAS\n",
    "* INNER JOIN : retorna linhas quando houver pelo menos uma correspodência em ambas as tabelas. Seria a intersecção entre dois conjuntos.\n",
    "* OUTER JOIN : retorna linhas mesmo quando não houver pelo menos uma correspodência em uma das tabelas (ou ambas). O OUTER JOIN divide-se em:\n",
    "\n",
    "    * LEFT JOIN\n",
    "    * RIGHT JOIN\n",
    "    * CROSS JOIN\n",
    "\n",
    "##### Construção da declaração\n",
    "\n",
    "* A cláusula ON determina a condição de join, que indica como as tabelas devem ser comparadas. Indica a condição de junção,\n",
    "* No geral, a comparação ocorre por meio de um relacionamento entre chave primária na primeira tabela e chave extrangeira na segunda tabela.\n",
    "\n",
    "* Uma condição de JOIN nomeia uma coluna em cada tabela envolvida no join e indica como as colunas devem ser comparadas.\n",
    "    * No geral , usa-se o operador **=** para obter linhas com colunas correspondentes. É comum usar o relacionamento de PK de uma tabela com a FK de outra tabela.\n",
    "    \n",
    "##### Nome de coluna Qualificados\n",
    "\n",
    "Nome da coluna precedido prlo nome da tabela à qual pertence, separados por um ponto. Usamos nomes de colunas qualificados pra identificar a qual tabela cada campo envolvido pertence. Isso evita erro de ambiguidade caso uma coluna renha o mesmo nome em duas tabelas diferentes.\n",
    "* ON pedido.cod_produto = produtos.cod_produto\n",
    "\n",
    "##### Sintaxe Simples - INNER JOIN\n",
    "SELECT colunas\n",
    "\n",
    "FROM tabela1\n",
    "\n",
    "    [INNER] JOIN tabela2\n",
    "\n",
    "        ON tabela1.coluna = tabela2.coluna\n",
    "    \n",
    "    [INNER] JOIN tabelaN \n",
    "\n",
    "        ON tabela1.coluna = tabelaN.coluna\n",
    "\n",
    "    [WHERE condições_filtragem]\n",
    "    \n",
    "##### Representação\n",
    "![JoinsSQL](https://blog.masterdaweb.com/wp-content/uploads/2015/08/inner-join-left-join-outer-join.png)"
   ]
  },
  {
   "cell_type": "code",
   "execution_count": 21,
   "metadata": {},
   "outputs": [
    {
     "name": "stderr",
     "output_type": "stream",
     "text": [
      "C:\\Users\\syann\\AppData\\Local\\Temp\\ipykernel_11460\\1027389047.py:2: UserWarning: pandas only supports SQLAlchemy connectable (engine/connection) or database string URI or sqlite3 DBAPI2 connection. Other DBAPI2 objects are not tested. Please consider using SQLAlchemy.\n",
      "  df = pd.read_sql_query(\"SELECT categories.category_name AS Categoria , products.product_name AS produto FROM products INNER JOIN categories ON products.category_id = categories.category_id;\", con=conn)\n"
     ]
    },
    {
     "data": {
      "text/html": [
       "<div>\n",
       "<style scoped>\n",
       "    .dataframe tbody tr th:only-of-type {\n",
       "        vertical-align: middle;\n",
       "    }\n",
       "\n",
       "    .dataframe tbody tr th {\n",
       "        vertical-align: top;\n",
       "    }\n",
       "\n",
       "    .dataframe thead th {\n",
       "        text-align: right;\n",
       "    }\n",
       "</style>\n",
       "<table border=\"1\" class=\"dataframe\">\n",
       "  <thead>\n",
       "    <tr style=\"text-align: right;\">\n",
       "      <th></th>\n",
       "      <th>categoria</th>\n",
       "      <th>produto</th>\n",
       "    </tr>\n",
       "  </thead>\n",
       "  <tbody>\n",
       "    <tr>\n",
       "      <th>0</th>\n",
       "      <td>Beverages</td>\n",
       "      <td>Chai</td>\n",
       "    </tr>\n",
       "    <tr>\n",
       "      <th>1</th>\n",
       "      <td>Beverages</td>\n",
       "      <td>Chang</td>\n",
       "    </tr>\n",
       "    <tr>\n",
       "      <th>2</th>\n",
       "      <td>Condiments</td>\n",
       "      <td>Aniseed Syrup</td>\n",
       "    </tr>\n",
       "    <tr>\n",
       "      <th>3</th>\n",
       "      <td>Condiments</td>\n",
       "      <td>Chef Anton's Cajun Seasoning</td>\n",
       "    </tr>\n",
       "    <tr>\n",
       "      <th>4</th>\n",
       "      <td>Condiments</td>\n",
       "      <td>Chef Anton's Gumbo Mix</td>\n",
       "    </tr>\n",
       "    <tr>\n",
       "      <th>...</th>\n",
       "      <td>...</td>\n",
       "      <td>...</td>\n",
       "    </tr>\n",
       "    <tr>\n",
       "      <th>72</th>\n",
       "      <td>Seafood</td>\n",
       "      <td>Röd Kaviar</td>\n",
       "    </tr>\n",
       "    <tr>\n",
       "      <th>73</th>\n",
       "      <td>Produce</td>\n",
       "      <td>Longlife Tofu</td>\n",
       "    </tr>\n",
       "    <tr>\n",
       "      <th>74</th>\n",
       "      <td>Beverages</td>\n",
       "      <td>Rhönbräu Klosterbier</td>\n",
       "    </tr>\n",
       "    <tr>\n",
       "      <th>75</th>\n",
       "      <td>Beverages</td>\n",
       "      <td>Lakkalikööri</td>\n",
       "    </tr>\n",
       "    <tr>\n",
       "      <th>76</th>\n",
       "      <td>Condiments</td>\n",
       "      <td>Original Frankfurter grüne Soße</td>\n",
       "    </tr>\n",
       "  </tbody>\n",
       "</table>\n",
       "<p>77 rows × 2 columns</p>\n",
       "</div>"
      ],
      "text/plain": [
       "     categoria                          produto\n",
       "0    Beverages                             Chai\n",
       "1    Beverages                            Chang\n",
       "2   Condiments                    Aniseed Syrup\n",
       "3   Condiments     Chef Anton's Cajun Seasoning\n",
       "4   Condiments           Chef Anton's Gumbo Mix\n",
       "..         ...                              ...\n",
       "72     Seafood                       Röd Kaviar\n",
       "73     Produce                    Longlife Tofu\n",
       "74   Beverages             Rhönbräu Klosterbier\n",
       "75   Beverages                     Lakkalikööri\n",
       "76  Condiments  Original Frankfurter grüne Soße\n",
       "\n",
       "[77 rows x 2 columns]"
      ]
     },
     "execution_count": 21,
     "metadata": {},
     "output_type": "execute_result"
    }
   ],
   "source": [
    "# mostrar a relação de fornecedores e produtos\n",
    "df = pd.read_sql_query(\"SELECT categories.category_name AS Categoria , products.product_name AS produto FROM products INNER JOIN categories ON products.category_id = categories.category_id;\", con=conn)\n",
    "df"
   ]
  },
  {
   "cell_type": "code",
   "execution_count": 23,
   "metadata": {},
   "outputs": [
    {
     "name": "stderr",
     "output_type": "stream",
     "text": [
      "C:\\Users\\syann\\AppData\\Local\\Temp\\ipykernel_11460\\4139405712.py:15: UserWarning: pandas only supports SQLAlchemy connectable (engine/connection) or database string URI or sqlite3 DBAPI2 connection. Other DBAPI2 objects are not tested. Please consider using SQLAlchemy.\n",
      "  df = pd.read_sql_query(f\"SELECT CA.category_name AS Categoria , PR.product_name AS produto , SP.company_name AS fornecedor FROM products AS PR INNER JOIN categories CA ON PR.category_id = CA.category_id INNER JOIN suppliers AS SP ON PR.supplier_id = SP.supplier_id WHERE CA.category_name = '{teste}';\", con=conn)\n"
     ]
    },
    {
     "data": {
      "text/html": [
       "<div>\n",
       "<style scoped>\n",
       "    .dataframe tbody tr th:only-of-type {\n",
       "        vertical-align: middle;\n",
       "    }\n",
       "\n",
       "    .dataframe tbody tr th {\n",
       "        vertical-align: top;\n",
       "    }\n",
       "\n",
       "    .dataframe thead th {\n",
       "        text-align: right;\n",
       "    }\n",
       "</style>\n",
       "<table border=\"1\" class=\"dataframe\">\n",
       "  <thead>\n",
       "    <tr style=\"text-align: right;\">\n",
       "      <th></th>\n",
       "      <th>categoria</th>\n",
       "      <th>produto</th>\n",
       "      <th>fornecedor</th>\n",
       "    </tr>\n",
       "  </thead>\n",
       "  <tbody>\n",
       "    <tr>\n",
       "      <th>0</th>\n",
       "      <td>Condiments</td>\n",
       "      <td>Aniseed Syrup</td>\n",
       "      <td>Exotic Liquids</td>\n",
       "    </tr>\n",
       "    <tr>\n",
       "      <th>1</th>\n",
       "      <td>Condiments</td>\n",
       "      <td>Louisiana Hot Spiced Okra</td>\n",
       "      <td>New Orleans Cajun Delights</td>\n",
       "    </tr>\n",
       "    <tr>\n",
       "      <th>2</th>\n",
       "      <td>Condiments</td>\n",
       "      <td>Louisiana Fiery Hot Pepper Sauce</td>\n",
       "      <td>New Orleans Cajun Delights</td>\n",
       "    </tr>\n",
       "    <tr>\n",
       "      <th>3</th>\n",
       "      <td>Condiments</td>\n",
       "      <td>Chef Anton's Gumbo Mix</td>\n",
       "      <td>New Orleans Cajun Delights</td>\n",
       "    </tr>\n",
       "    <tr>\n",
       "      <th>4</th>\n",
       "      <td>Condiments</td>\n",
       "      <td>Chef Anton's Cajun Seasoning</td>\n",
       "      <td>New Orleans Cajun Delights</td>\n",
       "    </tr>\n",
       "    <tr>\n",
       "      <th>5</th>\n",
       "      <td>Condiments</td>\n",
       "      <td>Northwoods Cranberry Sauce</td>\n",
       "      <td>Grandma Kelly's Homestead</td>\n",
       "    </tr>\n",
       "    <tr>\n",
       "      <th>6</th>\n",
       "      <td>Condiments</td>\n",
       "      <td>Grandma's Boysenberry Spread</td>\n",
       "      <td>Grandma Kelly's Homestead</td>\n",
       "    </tr>\n",
       "    <tr>\n",
       "      <th>7</th>\n",
       "      <td>Condiments</td>\n",
       "      <td>Genen Shouyu</td>\n",
       "      <td>Mayumi's</td>\n",
       "    </tr>\n",
       "    <tr>\n",
       "      <th>8</th>\n",
       "      <td>Condiments</td>\n",
       "      <td>Vegie-spread</td>\n",
       "      <td>Pavlova, Ltd.</td>\n",
       "    </tr>\n",
       "    <tr>\n",
       "      <th>9</th>\n",
       "      <td>Condiments</td>\n",
       "      <td>Original Frankfurter grüne Soße</td>\n",
       "      <td>Plutzer Lebensmittelgroßmärkte AG</td>\n",
       "    </tr>\n",
       "    <tr>\n",
       "      <th>10</th>\n",
       "      <td>Condiments</td>\n",
       "      <td>Gula Malacca</td>\n",
       "      <td>Leka Trading</td>\n",
       "    </tr>\n",
       "    <tr>\n",
       "      <th>11</th>\n",
       "      <td>Condiments</td>\n",
       "      <td>Sirop d'érable</td>\n",
       "      <td>Forêts d'érables</td>\n",
       "    </tr>\n",
       "  </tbody>\n",
       "</table>\n",
       "</div>"
      ],
      "text/plain": [
       "     categoria                           produto  \\\n",
       "0   Condiments                     Aniseed Syrup   \n",
       "1   Condiments         Louisiana Hot Spiced Okra   \n",
       "2   Condiments  Louisiana Fiery Hot Pepper Sauce   \n",
       "3   Condiments            Chef Anton's Gumbo Mix   \n",
       "4   Condiments      Chef Anton's Cajun Seasoning   \n",
       "5   Condiments        Northwoods Cranberry Sauce   \n",
       "6   Condiments      Grandma's Boysenberry Spread   \n",
       "7   Condiments                      Genen Shouyu   \n",
       "8   Condiments                      Vegie-spread   \n",
       "9   Condiments   Original Frankfurter grüne Soße   \n",
       "10  Condiments                      Gula Malacca   \n",
       "11  Condiments                    Sirop d'érable   \n",
       "\n",
       "                           fornecedor  \n",
       "0                      Exotic Liquids  \n",
       "1          New Orleans Cajun Delights  \n",
       "2          New Orleans Cajun Delights  \n",
       "3          New Orleans Cajun Delights  \n",
       "4          New Orleans Cajun Delights  \n",
       "5           Grandma Kelly's Homestead  \n",
       "6           Grandma Kelly's Homestead  \n",
       "7                            Mayumi's  \n",
       "8                       Pavlova, Ltd.  \n",
       "9   Plutzer Lebensmittelgroßmärkte AG  \n",
       "10                       Leka Trading  \n",
       "11                   Forêts d'érables  "
      ]
     },
     "execution_count": 23,
     "metadata": {},
     "output_type": "execute_result"
    }
   ],
   "source": [
    "# mostrar a relação entre produtos, fornecedores e da categoria de condimentos\n",
    "\n",
    "'''\n",
    "SELECT CA.category_name \"Categoria\",\n",
    "PR.product_name \"produto\",\n",
    "SP.company_name AS fornecedor\n",
    "FROM products AS PR\n",
    "INNER JOIN categories CA\n",
    "ON PR.category_id = CA.category_id\n",
    "INNER JOIN suppliers AS SP\n",
    "ON PR.supplier_id = SP.supplier_id\n",
    "WHERE CA.category_name = 'Condiments';\n",
    "'''\n",
    "teste= \"Condiments\"\n",
    "df = pd.read_sql_query(f\"SELECT CA.category_name AS Categoria , PR.product_name AS produto , SP.company_name AS fornecedor FROM products AS PR INNER JOIN categories CA ON PR.category_id = CA.category_id INNER JOIN suppliers AS SP ON PR.supplier_id = SP.supplier_id WHERE CA.category_name = '{teste}';\", con=conn)\n",
    "df"
   ]
  },
  {
   "attachments": {},
   "cell_type": "markdown",
   "metadata": {},
   "source": [
    "##### PostgreSQL - VIEWS\n",
    "\n",
    "view (exibição/visão) é uma tabela virtual (estrutura de dados) baseada no conjunto de resultados de uma consulta SQL, criada a partur de um conjunto de tabelas (ou outras views) presentes cno banco, que servem como tabelas-base\n",
    "\n",
    "- Mostra sempre resultados de dados atualizados, pois o motor do banco de dados recria os dados toda vez que um usuário resulta a visão.\n",
    "\n",
    "##### Aplicação das views\n",
    "- Simplificar o acesso a dados que estão armazenados em mútiplas tabelas relacionadas\n",
    "- Implementar a segurança nos dados de uma tabela, por exemplo criando uma visão que limite os dados que podem ser acessados, por meio de uma cláusula **WHERE** .\n",
    "- Prover isolamento de uma aplicação da estrutura específica de tabelas do banco acessado.\n",
    "\n",
    "##### SINTAXE   \n",
    "\n",
    "CREATE OR REPLACE VIEW nome_view AS \n",
    "\n",
    "--Código --\n",
    "\n",
    "#### exemplo"
   ]
  },
  {
   "cell_type": "code",
   "execution_count": null,
   "metadata": {
    "vscode": {
     "languageId": "sql"
    }
   },
   "outputs": [],
   "source": [
    "CREATE OR REPLACE VIEW receita_produto AS\n",
    "\tSELECT CA.category_name \"Categoria\",\n",
    "\tPR.product_name \"produto\",\n",
    "\tSP.company_name AS fornecedor,\n",
    "\tPR.unit_price \"Preço da unidade\",\n",
    "\tPR.units_in_stock AS Qtde_estoque,\n",
    "\tPR.units_in_stock * PR.unit_price AS RECEITA\n",
    "\tFROM products AS PR\n",
    "\tINNER JOIN categories CA\n",
    "\tON PR.category_id = CA.category_id\n",
    "\tINNER JOIN suppliers AS SP\n",
    "\tON PR.supplier_id = SP.supplier_id\n",
    "\tORDER BY \"Categoria\";\n",
    "\n",
    "-- Depois se pode visualizar da sequinte forma\n",
    "\n",
    "SELECT * FROM receita_produto"
   ]
  },
  {
   "cell_type": "code",
   "execution_count": 25,
   "metadata": {},
   "outputs": [
    {
     "name": "stderr",
     "output_type": "stream",
     "text": [
      "C:\\Users\\syann\\AppData\\Local\\Temp\\ipykernel_11460\\3937543780.py:1: UserWarning: pandas only supports SQLAlchemy connectable (engine/connection) or database string URI or sqlite3 DBAPI2 connection. Other DBAPI2 objects are not tested. Please consider using SQLAlchemy.\n",
      "  df = pd.read_sql_query(f\"SELECT * FROM receita_produto;\", con=conn)\n"
     ]
    },
    {
     "data": {
      "text/html": [
       "<div>\n",
       "<style scoped>\n",
       "    .dataframe tbody tr th:only-of-type {\n",
       "        vertical-align: middle;\n",
       "    }\n",
       "\n",
       "    .dataframe tbody tr th {\n",
       "        vertical-align: top;\n",
       "    }\n",
       "\n",
       "    .dataframe thead th {\n",
       "        text-align: right;\n",
       "    }\n",
       "</style>\n",
       "<table border=\"1\" class=\"dataframe\">\n",
       "  <thead>\n",
       "    <tr style=\"text-align: right;\">\n",
       "      <th></th>\n",
       "      <th>Categoria</th>\n",
       "      <th>produto</th>\n",
       "      <th>fornecedor</th>\n",
       "      <th>Preço da unidade</th>\n",
       "      <th>qtde_estoque</th>\n",
       "      <th>receita</th>\n",
       "    </tr>\n",
       "  </thead>\n",
       "  <tbody>\n",
       "    <tr>\n",
       "      <th>0</th>\n",
       "      <td>Beverages</td>\n",
       "      <td>Guaraná Fantástica</td>\n",
       "      <td>Refrescos Americanas LTDA</td>\n",
       "      <td>4.50</td>\n",
       "      <td>20</td>\n",
       "      <td>90.000000</td>\n",
       "    </tr>\n",
       "    <tr>\n",
       "      <th>1</th>\n",
       "      <td>Beverages</td>\n",
       "      <td>Ipoh Coffee</td>\n",
       "      <td>Leka Trading</td>\n",
       "      <td>46.00</td>\n",
       "      <td>17</td>\n",
       "      <td>782.000000</td>\n",
       "    </tr>\n",
       "    <tr>\n",
       "      <th>2</th>\n",
       "      <td>Beverages</td>\n",
       "      <td>Chartreuse verte</td>\n",
       "      <td>Aux joyeux ecclésiastiques</td>\n",
       "      <td>18.00</td>\n",
       "      <td>69</td>\n",
       "      <td>1242.000000</td>\n",
       "    </tr>\n",
       "    <tr>\n",
       "      <th>3</th>\n",
       "      <td>Beverages</td>\n",
       "      <td>Côte de Blaye</td>\n",
       "      <td>Aux joyeux ecclésiastiques</td>\n",
       "      <td>263.50</td>\n",
       "      <td>17</td>\n",
       "      <td>4479.500000</td>\n",
       "    </tr>\n",
       "    <tr>\n",
       "      <th>4</th>\n",
       "      <td>Beverages</td>\n",
       "      <td>Steeleye Stout</td>\n",
       "      <td>Bigfoot Breweries</td>\n",
       "      <td>18.00</td>\n",
       "      <td>20</td>\n",
       "      <td>360.000000</td>\n",
       "    </tr>\n",
       "    <tr>\n",
       "      <th>...</th>\n",
       "      <td>...</td>\n",
       "      <td>...</td>\n",
       "      <td>...</td>\n",
       "      <td>...</td>\n",
       "      <td>...</td>\n",
       "      <td>...</td>\n",
       "    </tr>\n",
       "    <tr>\n",
       "      <th>72</th>\n",
       "      <td>Seafood</td>\n",
       "      <td>Escargots de Bourgogne</td>\n",
       "      <td>Escargots Nouveaux</td>\n",
       "      <td>13.25</td>\n",
       "      <td>62</td>\n",
       "      <td>821.500000</td>\n",
       "    </tr>\n",
       "    <tr>\n",
       "      <th>73</th>\n",
       "      <td>Seafood</td>\n",
       "      <td>Carnarvon Tigers</td>\n",
       "      <td>Pavlova, Ltd.</td>\n",
       "      <td>62.50</td>\n",
       "      <td>42</td>\n",
       "      <td>2625.000000</td>\n",
       "    </tr>\n",
       "    <tr>\n",
       "      <th>74</th>\n",
       "      <td>Seafood</td>\n",
       "      <td>Konbu</td>\n",
       "      <td>Mayumi's</td>\n",
       "      <td>6.00</td>\n",
       "      <td>24</td>\n",
       "      <td>144.000000</td>\n",
       "    </tr>\n",
       "    <tr>\n",
       "      <th>75</th>\n",
       "      <td>Seafood</td>\n",
       "      <td>Inlagd Sill</td>\n",
       "      <td>Svensk Sjöföda AB</td>\n",
       "      <td>19.00</td>\n",
       "      <td>112</td>\n",
       "      <td>2128.000000</td>\n",
       "    </tr>\n",
       "    <tr>\n",
       "      <th>76</th>\n",
       "      <td>Seafood</td>\n",
       "      <td>Nord-Ost Matjeshering</td>\n",
       "      <td>Nord-Ost-Fisch Handelsgesellschaft mbH</td>\n",
       "      <td>25.89</td>\n",
       "      <td>10</td>\n",
       "      <td>258.899994</td>\n",
       "    </tr>\n",
       "  </tbody>\n",
       "</table>\n",
       "<p>77 rows × 6 columns</p>\n",
       "</div>"
      ],
      "text/plain": [
       "    Categoria                 produto                              fornecedor  \\\n",
       "0   Beverages      Guaraná Fantástica               Refrescos Americanas LTDA   \n",
       "1   Beverages             Ipoh Coffee                            Leka Trading   \n",
       "2   Beverages        Chartreuse verte              Aux joyeux ecclésiastiques   \n",
       "3   Beverages           Côte de Blaye              Aux joyeux ecclésiastiques   \n",
       "4   Beverages          Steeleye Stout                       Bigfoot Breweries   \n",
       "..        ...                     ...                                     ...   \n",
       "72    Seafood  Escargots de Bourgogne                      Escargots Nouveaux   \n",
       "73    Seafood        Carnarvon Tigers                           Pavlova, Ltd.   \n",
       "74    Seafood                   Konbu                                Mayumi's   \n",
       "75    Seafood             Inlagd Sill                       Svensk Sjöföda AB   \n",
       "76    Seafood   Nord-Ost Matjeshering  Nord-Ost-Fisch Handelsgesellschaft mbH   \n",
       "\n",
       "    Preço da unidade  qtde_estoque      receita  \n",
       "0               4.50            20    90.000000  \n",
       "1              46.00            17   782.000000  \n",
       "2              18.00            69  1242.000000  \n",
       "3             263.50            17  4479.500000  \n",
       "4              18.00            20   360.000000  \n",
       "..               ...           ...          ...  \n",
       "72             13.25            62   821.500000  \n",
       "73             62.50            42  2625.000000  \n",
       "74              6.00            24   144.000000  \n",
       "75             19.00           112  2128.000000  \n",
       "76             25.89            10   258.899994  \n",
       "\n",
       "[77 rows x 6 columns]"
      ]
     },
     "execution_count": 25,
     "metadata": {},
     "output_type": "execute_result"
    }
   ],
   "source": [
    "df = pd.read_sql_query(f\"SELECT * FROM receita_produto;\", con=conn)\n",
    "df"
   ]
  },
  {
   "cell_type": "code",
   "execution_count": null,
   "metadata": {
    "vscode": {
     "languageId": "sql"
    }
   },
   "outputs": [],
   "source": [
    "-- criando RECEITA POR FORNECEDOR \n",
    "CREATE OR REPLACE VIEW receita_fornecedor AS\n",
    "\tSELECT fornecedor, SUM(receita) AS receita_por_fornecedor\n",
    "\tFROM receita_produto\n",
    "\tGROUP BY fornecedor\n",
    "\tORDER BY receita_por_fornecedor DESC;"
   ]
  },
  {
   "cell_type": "code",
   "execution_count": 32,
   "metadata": {
    "vscode": {
     "languageId": "sql"
    }
   },
   "outputs": [
    {
     "name": "stderr",
     "output_type": "stream",
     "text": [
      "C:\\Users\\syann\\AppData\\Local\\Temp\\ipykernel_11460\\1342187504.py:1: UserWarning: pandas only supports SQLAlchemy connectable (engine/connection) or database string URI or sqlite3 DBAPI2 connection. Other DBAPI2 objects are not tested. Please consider using SQLAlchemy.\n",
      "  df = pd.read_sql_query(f\"SELECT fornecedor, receita_por_fornecedor AS receita FROM receita_fornecedor;\", con=conn)\n"
     ]
    },
    {
     "data": {
      "text/html": [
       "<div>\n",
       "<style scoped>\n",
       "    .dataframe tbody tr th:only-of-type {\n",
       "        vertical-align: middle;\n",
       "    }\n",
       "\n",
       "    .dataframe tbody tr th {\n",
       "        vertical-align: top;\n",
       "    }\n",
       "\n",
       "    .dataframe thead th {\n",
       "        text-align: right;\n",
       "    }\n",
       "</style>\n",
       "<table border=\"1\" class=\"dataframe\">\n",
       "  <thead>\n",
       "    <tr style=\"text-align: right;\">\n",
       "      <th></th>\n",
       "      <th>fornecedor</th>\n",
       "      <th>receita</th>\n",
       "    </tr>\n",
       "  </thead>\n",
       "  <tbody>\n",
       "    <tr>\n",
       "      <th>0</th>\n",
       "      <td>Aux joyeux ecclésiastiques</td>\n",
       "      <td>5721.500000</td>\n",
       "    </tr>\n",
       "    <tr>\n",
       "      <th>1</th>\n",
       "      <td>Gai pâturage</td>\n",
       "      <td>4991.000000</td>\n",
       "    </tr>\n",
       "    <tr>\n",
       "      <th>2</th>\n",
       "      <td>Pavlova, Ltd.</td>\n",
       "      <td>4409.650059</td>\n",
       "    </tr>\n",
       "    <tr>\n",
       "      <th>3</th>\n",
       "      <td>Specialty Biscuits, Ltd.</td>\n",
       "      <td>4276.999995</td>\n",
       "    </tr>\n",
       "    <tr>\n",
       "      <th>4</th>\n",
       "      <td>Forêts d'érables</td>\n",
       "      <td>4058.599987</td>\n",
       "    </tr>\n",
       "    <tr>\n",
       "      <th>5</th>\n",
       "      <td>Svensk Sjöföda AB</td>\n",
       "      <td>3929.000000</td>\n",
       "    </tr>\n",
       "    <tr>\n",
       "      <th>6</th>\n",
       "      <td>Tokyo Traders</td>\n",
       "      <td>3814.000000</td>\n",
       "    </tr>\n",
       "    <tr>\n",
       "      <th>7</th>\n",
       "      <td>Cooperativa de Quesos 'Las Cabras'</td>\n",
       "      <td>3730.000000</td>\n",
       "    </tr>\n",
       "    <tr>\n",
       "      <th>8</th>\n",
       "      <td>Grandma Kelly's Homestead</td>\n",
       "      <td>3690.000000</td>\n",
       "    </tr>\n",
       "    <tr>\n",
       "      <th>9</th>\n",
       "      <td>Heli Süßwaren GmbH &amp; Co. KG</td>\n",
       "      <td>3683.550068</td>\n",
       "    </tr>\n",
       "    <tr>\n",
       "      <th>10</th>\n",
       "      <td>Plutzer Lebensmittelgroßmärkte AG</td>\n",
       "      <td>3301.849960</td>\n",
       "    </tr>\n",
       "    <tr>\n",
       "      <th>11</th>\n",
       "      <td>New England Seafood Cannery</td>\n",
       "      <td>3083.449921</td>\n",
       "    </tr>\n",
       "    <tr>\n",
       "      <th>12</th>\n",
       "      <td>Ma Maison</td>\n",
       "      <td>2916.449996</td>\n",
       "    </tr>\n",
       "    <tr>\n",
       "      <th>13</th>\n",
       "      <td>New Orleans Cajun Delights</td>\n",
       "      <td>2833.799942</td>\n",
       "    </tr>\n",
       "    <tr>\n",
       "      <th>14</th>\n",
       "      <td>PB Knäckebröd AB</td>\n",
       "      <td>2733.000000</td>\n",
       "    </tr>\n",
       "    <tr>\n",
       "      <th>15</th>\n",
       "      <td>Bigfoot Breweries</td>\n",
       "      <td>2642.000000</td>\n",
       "    </tr>\n",
       "    <tr>\n",
       "      <th>16</th>\n",
       "      <td>Karkki Oy</td>\n",
       "      <td>2282.250000</td>\n",
       "    </tr>\n",
       "    <tr>\n",
       "      <th>17</th>\n",
       "      <td>Norske Meierier</td>\n",
       "      <td>1775.000000</td>\n",
       "    </tr>\n",
       "    <tr>\n",
       "      <th>18</th>\n",
       "      <td>Leka Trading</td>\n",
       "      <td>1671.150021</td>\n",
       "    </tr>\n",
       "    <tr>\n",
       "      <th>19</th>\n",
       "      <td>Pasta Buttini s.r.l.</td>\n",
       "      <td>1500.000000</td>\n",
       "    </tr>\n",
       "    <tr>\n",
       "      <th>20</th>\n",
       "      <td>Mayumi's</td>\n",
       "      <td>1464.750000</td>\n",
       "    </tr>\n",
       "    <tr>\n",
       "      <th>21</th>\n",
       "      <td>G'day, Mate</td>\n",
       "      <td>1326.000000</td>\n",
       "    </tr>\n",
       "    <tr>\n",
       "      <th>22</th>\n",
       "      <td>Lyngbysild</td>\n",
       "      <td>1187.500000</td>\n",
       "    </tr>\n",
       "    <tr>\n",
       "      <th>23</th>\n",
       "      <td>Escargots Nouveaux</td>\n",
       "      <td>821.500000</td>\n",
       "    </tr>\n",
       "    <tr>\n",
       "      <th>24</th>\n",
       "      <td>Formaggi Fortini s.r.l.</td>\n",
       "      <td>775.199989</td>\n",
       "    </tr>\n",
       "    <tr>\n",
       "      <th>25</th>\n",
       "      <td>Zaanse Snoepfabriek</td>\n",
       "      <td>533.250000</td>\n",
       "    </tr>\n",
       "    <tr>\n",
       "      <th>26</th>\n",
       "      <td>Exotic Liquids</td>\n",
       "      <td>453.000000</td>\n",
       "    </tr>\n",
       "    <tr>\n",
       "      <th>27</th>\n",
       "      <td>Nord-Ost-Fisch Handelsgesellschaft mbH</td>\n",
       "      <td>258.899994</td>\n",
       "    </tr>\n",
       "    <tr>\n",
       "      <th>28</th>\n",
       "      <td>Refrescos Americanas LTDA</td>\n",
       "      <td>90.000000</td>\n",
       "    </tr>\n",
       "  </tbody>\n",
       "</table>\n",
       "</div>"
      ],
      "text/plain": [
       "                                fornecedor      receita\n",
       "0               Aux joyeux ecclésiastiques  5721.500000\n",
       "1                             Gai pâturage  4991.000000\n",
       "2                            Pavlova, Ltd.  4409.650059\n",
       "3                 Specialty Biscuits, Ltd.  4276.999995\n",
       "4                         Forêts d'érables  4058.599987\n",
       "5                        Svensk Sjöföda AB  3929.000000\n",
       "6                            Tokyo Traders  3814.000000\n",
       "7       Cooperativa de Quesos 'Las Cabras'  3730.000000\n",
       "8                Grandma Kelly's Homestead  3690.000000\n",
       "9              Heli Süßwaren GmbH & Co. KG  3683.550068\n",
       "10       Plutzer Lebensmittelgroßmärkte AG  3301.849960\n",
       "11             New England Seafood Cannery  3083.449921\n",
       "12                               Ma Maison  2916.449996\n",
       "13              New Orleans Cajun Delights  2833.799942\n",
       "14                        PB Knäckebröd AB  2733.000000\n",
       "15                       Bigfoot Breweries  2642.000000\n",
       "16                               Karkki Oy  2282.250000\n",
       "17                         Norske Meierier  1775.000000\n",
       "18                            Leka Trading  1671.150021\n",
       "19                    Pasta Buttini s.r.l.  1500.000000\n",
       "20                                Mayumi's  1464.750000\n",
       "21                             G'day, Mate  1326.000000\n",
       "22                              Lyngbysild  1187.500000\n",
       "23                      Escargots Nouveaux   821.500000\n",
       "24                 Formaggi Fortini s.r.l.   775.199989\n",
       "25                     Zaanse Snoepfabriek   533.250000\n",
       "26                          Exotic Liquids   453.000000\n",
       "27  Nord-Ost-Fisch Handelsgesellschaft mbH   258.899994\n",
       "28               Refrescos Americanas LTDA    90.000000"
      ]
     },
     "execution_count": 32,
     "metadata": {},
     "output_type": "execute_result"
    }
   ],
   "source": [
    "df = pd.read_sql_query(f\"SELECT fornecedor, receita_por_fornecedor AS receita FROM receita_fornecedor;\", con=conn)\n",
    "df"
   ]
  },
  {
   "attachments": {},
   "cell_type": "markdown",
   "metadata": {},
   "source": [
    "#### ALTERAR PROPRIEDADE DA VIEW (NÃO O CÓDIGO - PRA ALTERAR O COD CREATE OR REPLACE)\n",
    "\n",
    "ALTER VIEW nome_antigo RENAME TO nome_nome;\n",
    "\n",
    "###### obs : pra excluir VIEW\n",
    "###### DROP VIEW IF EXISTS nome_view CASCADE \n",
    "###### cascade --> exclui "
   ]
  },
  {
   "attachments": {},
   "cell_type": "markdown",
   "metadata": {},
   "source": [
    "##### Usar arrays em colunas de tabelas\n",
    "- Sintaxe PostgreSQL\n",
    "    - nome_coluna tipo[]\n",
    "\n",
    "- Sintaxe ANSI SQL:\n",
    "    - nome_coluna tiponome_coluna ARRAY[tamanho]\n",
    "    - nome_coluna tiponome_coluna ARRAY\n",
    "\n",
    "**obs** : A contagem dos índices inicia em 1!!\n",
    "\n"
   ]
  },
  {
   "cell_type": "code",
   "execution_count": null,
   "metadata": {
    "vscode": {
     "languageId": "sql"
    }
   },
   "outputs": [],
   "source": [
    "CREATE TABLE escalaTrabalho(\n",
    "employee_id smallint,\n",
    "escala char(3)[]\n",
    ");\n",
    "\n",
    "select * FROM escalaTrabalho\n",
    "INSERT INTO escalaTrabalho\n",
    "VALUES\n",
    "(1,'{\"SEG\",\"TER\",\"QUA\"}'),\n",
    "(2,'{\"ter\",\"qui\",\"sex\"}'),\n",
    "(3,'{\"seg\",\"ter\",\"qua\"}'),\n",
    "(4,'{\"ter\",\"qui\",\"sex\"}'),\n",
    "(5,'{\"seg\",\"ter\",\"qua\"}'),\n",
    "(6,'{\"ter\",\"qui\",\"sex\"}'),\n",
    "(7,'{\"seg\",\"ter\",\"qua\"}'),\n",
    "(8,'{\"ter\",\"qui\",\"sex\"}'),\n",
    "(9,'{\"seg\",\"ter\",\"qua\"}');"
   ]
  },
  {
   "cell_type": "code",
   "execution_count": 4,
   "metadata": {
    "vscode": {
     "languageId": "sql"
    }
   },
   "outputs": [
    {
     "name": "stderr",
     "output_type": "stream",
     "text": [
      "C:\\Users\\syann\\AppData\\Local\\Temp\\ipykernel_6668\\3493746947.py:1: UserWarning: pandas only supports SQLAlchemy connectable (engine/connection) or database string URI or sqlite3 DBAPI2 connection. Other DBAPI2 objects are not tested. Please consider using SQLAlchemy.\n",
      "  df = pd.read_sql_query(\"SELECT * FROM escalaTrabalho;\", con=conn)\n"
     ]
    },
    {
     "data": {
      "text/html": [
       "<div>\n",
       "<style scoped>\n",
       "    .dataframe tbody tr th:only-of-type {\n",
       "        vertical-align: middle;\n",
       "    }\n",
       "\n",
       "    .dataframe tbody tr th {\n",
       "        vertical-align: top;\n",
       "    }\n",
       "\n",
       "    .dataframe thead th {\n",
       "        text-align: right;\n",
       "    }\n",
       "</style>\n",
       "<table border=\"1\" class=\"dataframe\">\n",
       "  <thead>\n",
       "    <tr style=\"text-align: right;\">\n",
       "      <th></th>\n",
       "      <th>employee_id</th>\n",
       "      <th>escala</th>\n",
       "    </tr>\n",
       "  </thead>\n",
       "  <tbody>\n",
       "    <tr>\n",
       "      <th>0</th>\n",
       "      <td>1</td>\n",
       "      <td>[SEG, TER, QUA]</td>\n",
       "    </tr>\n",
       "    <tr>\n",
       "      <th>1</th>\n",
       "      <td>2</td>\n",
       "      <td>[ter, qui, sex]</td>\n",
       "    </tr>\n",
       "    <tr>\n",
       "      <th>2</th>\n",
       "      <td>3</td>\n",
       "      <td>[seg, ter, qua]</td>\n",
       "    </tr>\n",
       "    <tr>\n",
       "      <th>3</th>\n",
       "      <td>4</td>\n",
       "      <td>[ter, qui, sex]</td>\n",
       "    </tr>\n",
       "    <tr>\n",
       "      <th>4</th>\n",
       "      <td>5</td>\n",
       "      <td>[seg, ter, qua]</td>\n",
       "    </tr>\n",
       "    <tr>\n",
       "      <th>5</th>\n",
       "      <td>6</td>\n",
       "      <td>[ter, qui, sex]</td>\n",
       "    </tr>\n",
       "    <tr>\n",
       "      <th>6</th>\n",
       "      <td>7</td>\n",
       "      <td>[seg, ter, qua]</td>\n",
       "    </tr>\n",
       "    <tr>\n",
       "      <th>7</th>\n",
       "      <td>8</td>\n",
       "      <td>[ter, qui, sex]</td>\n",
       "    </tr>\n",
       "    <tr>\n",
       "      <th>8</th>\n",
       "      <td>9</td>\n",
       "      <td>[seg, ter, qua]</td>\n",
       "    </tr>\n",
       "  </tbody>\n",
       "</table>\n",
       "</div>"
      ],
      "text/plain": [
       "   employee_id           escala\n",
       "0            1  [SEG, TER, QUA]\n",
       "1            2  [ter, qui, sex]\n",
       "2            3  [seg, ter, qua]\n",
       "3            4  [ter, qui, sex]\n",
       "4            5  [seg, ter, qua]\n",
       "5            6  [ter, qui, sex]\n",
       "6            7  [seg, ter, qua]\n",
       "7            8  [ter, qui, sex]\n",
       "8            9  [seg, ter, qua]"
      ]
     },
     "execution_count": 4,
     "metadata": {},
     "output_type": "execute_result"
    }
   ],
   "source": [
    "df = pd.read_sql_query(\"SELECT * FROM escalaTrabalho;\", con=conn)\n",
    "df"
   ]
  },
  {
   "cell_type": "code",
   "execution_count": 5,
   "metadata": {},
   "outputs": [
    {
     "name": "stderr",
     "output_type": "stream",
     "text": [
      "C:\\Users\\syann\\AppData\\Local\\Temp\\ipykernel_6668\\1465660481.py:2: UserWarning: pandas only supports SQLAlchemy connectable (engine/connection) or database string URI or sqlite3 DBAPI2 connection. Other DBAPI2 objects are not tested. Please consider using SQLAlchemy.\n",
      "  df = pd.read_sql_query(\"SELECT employee_id, escala[1] FROM escalaTrabalho ;\", con=conn)\n"
     ]
    },
    {
     "data": {
      "text/html": [
       "<div>\n",
       "<style scoped>\n",
       "    .dataframe tbody tr th:only-of-type {\n",
       "        vertical-align: middle;\n",
       "    }\n",
       "\n",
       "    .dataframe tbody tr th {\n",
       "        vertical-align: top;\n",
       "    }\n",
       "\n",
       "    .dataframe thead th {\n",
       "        text-align: right;\n",
       "    }\n",
       "</style>\n",
       "<table border=\"1\" class=\"dataframe\">\n",
       "  <thead>\n",
       "    <tr style=\"text-align: right;\">\n",
       "      <th></th>\n",
       "      <th>employee_id</th>\n",
       "      <th>escala</th>\n",
       "    </tr>\n",
       "  </thead>\n",
       "  <tbody>\n",
       "    <tr>\n",
       "      <th>0</th>\n",
       "      <td>1</td>\n",
       "      <td>SEG</td>\n",
       "    </tr>\n",
       "    <tr>\n",
       "      <th>1</th>\n",
       "      <td>2</td>\n",
       "      <td>ter</td>\n",
       "    </tr>\n",
       "    <tr>\n",
       "      <th>2</th>\n",
       "      <td>3</td>\n",
       "      <td>seg</td>\n",
       "    </tr>\n",
       "    <tr>\n",
       "      <th>3</th>\n",
       "      <td>4</td>\n",
       "      <td>ter</td>\n",
       "    </tr>\n",
       "    <tr>\n",
       "      <th>4</th>\n",
       "      <td>5</td>\n",
       "      <td>seg</td>\n",
       "    </tr>\n",
       "    <tr>\n",
       "      <th>5</th>\n",
       "      <td>6</td>\n",
       "      <td>ter</td>\n",
       "    </tr>\n",
       "    <tr>\n",
       "      <th>6</th>\n",
       "      <td>7</td>\n",
       "      <td>seg</td>\n",
       "    </tr>\n",
       "    <tr>\n",
       "      <th>7</th>\n",
       "      <td>8</td>\n",
       "      <td>ter</td>\n",
       "    </tr>\n",
       "    <tr>\n",
       "      <th>8</th>\n",
       "      <td>9</td>\n",
       "      <td>seg</td>\n",
       "    </tr>\n",
       "  </tbody>\n",
       "</table>\n",
       "</div>"
      ],
      "text/plain": [
       "   employee_id escala\n",
       "0            1    SEG\n",
       "1            2    ter\n",
       "2            3    seg\n",
       "3            4    ter\n",
       "4            5    seg\n",
       "5            6    ter\n",
       "6            7    seg\n",
       "7            8    ter\n",
       "8            9    seg"
      ]
     },
     "execution_count": 5,
     "metadata": {},
     "output_type": "execute_result"
    }
   ],
   "source": [
    "#consulta = primeiro dia de trabalho da semana de cada funcionário\n",
    "df = pd.read_sql_query(\"SELECT employee_id, escala[1] FROM escalaTrabalho ;\", con=conn)\n",
    "df"
   ]
  },
  {
   "cell_type": "code",
   "execution_count": null,
   "metadata": {
    "vscode": {
     "languageId": "sql"
    }
   },
   "outputs": [],
   "source": [
    "SELECT employee_id, escala[1] FROM escalaTrabalho "
   ]
  },
  {
   "cell_type": "code",
   "execution_count": null,
   "metadata": {
    "vscode": {
     "languageId": "sql"
    }
   },
   "outputs": [],
   "source": [
    "-- consulta : quais funcionários trabalham na quarta\n",
    "SELECT * FROM escalaTrabalho\n",
    "WHERE ' qua' = ANY(escala)"
   ]
  },
  {
   "cell_type": "code",
   "execution_count": 8,
   "metadata": {
    "vscode": {
     "languageId": "sql"
    }
   },
   "outputs": [
    {
     "name": "stderr",
     "output_type": "stream",
     "text": [
      "C:\\Users\\syann\\AppData\\Local\\Temp\\ipykernel_6668\\2697666075.py:2: UserWarning: pandas only supports SQLAlchemy connectable (engine/connection) or database string URI or sqlite3 DBAPI2 connection. Other DBAPI2 objects are not tested. Please consider using SQLAlchemy.\n",
      "  df = pd.read_sql_query(f\"SELECT * FROM escalaTrabalho WHERE '{dia}' = ANY(escala);\", con=conn)\n"
     ]
    },
    {
     "data": {
      "text/html": [
       "<div>\n",
       "<style scoped>\n",
       "    .dataframe tbody tr th:only-of-type {\n",
       "        vertical-align: middle;\n",
       "    }\n",
       "\n",
       "    .dataframe tbody tr th {\n",
       "        vertical-align: top;\n",
       "    }\n",
       "\n",
       "    .dataframe thead th {\n",
       "        text-align: right;\n",
       "    }\n",
       "</style>\n",
       "<table border=\"1\" class=\"dataframe\">\n",
       "  <thead>\n",
       "    <tr style=\"text-align: right;\">\n",
       "      <th></th>\n",
       "      <th>employee_id</th>\n",
       "      <th>escala</th>\n",
       "    </tr>\n",
       "  </thead>\n",
       "  <tbody>\n",
       "    <tr>\n",
       "      <th>0</th>\n",
       "      <td>3</td>\n",
       "      <td>[seg, ter, qua]</td>\n",
       "    </tr>\n",
       "    <tr>\n",
       "      <th>1</th>\n",
       "      <td>5</td>\n",
       "      <td>[seg, ter, qua]</td>\n",
       "    </tr>\n",
       "    <tr>\n",
       "      <th>2</th>\n",
       "      <td>7</td>\n",
       "      <td>[seg, ter, qua]</td>\n",
       "    </tr>\n",
       "    <tr>\n",
       "      <th>3</th>\n",
       "      <td>9</td>\n",
       "      <td>[seg, ter, qua]</td>\n",
       "    </tr>\n",
       "    <tr>\n",
       "      <th>4</th>\n",
       "      <td>1</td>\n",
       "      <td>[seg, ter, qua]</td>\n",
       "    </tr>\n",
       "  </tbody>\n",
       "</table>\n",
       "</div>"
      ],
      "text/plain": [
       "   employee_id           escala\n",
       "0            3  [seg, ter, qua]\n",
       "1            5  [seg, ter, qua]\n",
       "2            7  [seg, ter, qua]\n",
       "3            9  [seg, ter, qua]\n",
       "4            1  [seg, ter, qua]"
      ]
     },
     "execution_count": 8,
     "metadata": {},
     "output_type": "execute_result"
    }
   ],
   "source": [
    "dia='qua'\n",
    "df = pd.read_sql_query(f\"SELECT * FROM escalaTrabalho WHERE '{dia}' = ANY(escala);\", con=conn)\n",
    "df"
   ]
  },
  {
   "cell_type": "code",
   "execution_count": null,
   "metadata": {
    "vscode": {
     "languageId": "sql"
    }
   },
   "outputs": [],
   "source": [
    "-- alterar escala de trabalho do funcionário 3\n",
    "UPDATE escalaTrabalho\n",
    "SET escala = '{\"ter\",\"qua\",\"sex\"}'\n",
    "WHERE employee_id = 3;\n",
    "\n",
    "-- ou ainda - cod ansi\n",
    "UPDATE escalaTrabalho\n",
    "SET escala = ARRAY[\"ter\",\"qua\",\"sex\"]\n",
    "WHERE employee_id = 3;"
   ]
  },
  {
   "cell_type": "code",
   "execution_count": 9,
   "metadata": {
    "vscode": {
     "languageId": "sql"
    }
   },
   "outputs": [
    {
     "name": "stderr",
     "output_type": "stream",
     "text": [
      "C:\\Users\\syann\\AppData\\Local\\Temp\\ipykernel_6668\\3482035582.py:1: UserWarning: pandas only supports SQLAlchemy connectable (engine/connection) or database string URI or sqlite3 DBAPI2 connection. Other DBAPI2 objects are not tested. Please consider using SQLAlchemy.\n",
      "  df = pd.read_sql_query(f\"SELECT * FROM escalaTrabalho WHERE employee_id = 3 ;\", con=conn)\n"
     ]
    },
    {
     "data": {
      "text/html": [
       "<div>\n",
       "<style scoped>\n",
       "    .dataframe tbody tr th:only-of-type {\n",
       "        vertical-align: middle;\n",
       "    }\n",
       "\n",
       "    .dataframe tbody tr th {\n",
       "        vertical-align: top;\n",
       "    }\n",
       "\n",
       "    .dataframe thead th {\n",
       "        text-align: right;\n",
       "    }\n",
       "</style>\n",
       "<table border=\"1\" class=\"dataframe\">\n",
       "  <thead>\n",
       "    <tr style=\"text-align: right;\">\n",
       "      <th></th>\n",
       "      <th>employee_id</th>\n",
       "      <th>escala</th>\n",
       "    </tr>\n",
       "  </thead>\n",
       "  <tbody>\n",
       "    <tr>\n",
       "      <th>0</th>\n",
       "      <td>3</td>\n",
       "      <td>[ter, qua, sex]</td>\n",
       "    </tr>\n",
       "  </tbody>\n",
       "</table>\n",
       "</div>"
      ],
      "text/plain": [
       "   employee_id           escala\n",
       "0            3  [ter, qua, sex]"
      ]
     },
     "execution_count": 9,
     "metadata": {},
     "output_type": "execute_result"
    }
   ],
   "source": [
    "df = pd.read_sql_query(f\"SELECT * FROM escalaTrabalho WHERE employee_id = 3 ;\", con=conn)\n",
    "df"
   ]
  },
  {
   "attachments": {},
   "cell_type": "markdown",
   "metadata": {},
   "source": [
    "##### Materialized view \n",
    "É um objeto de cando de dados que armazena o resultado de uma consulta de forma persistente.\n",
    " - É uma tabela auxiliar que permite maior performance no acesso aos dados.\n",
    " "
   ]
  },
  {
   "attachments": {},
   "cell_type": "markdown",
   "metadata": {},
   "source": [
    "#### Operadores Aritiméticos\n",
    "![operadoresSQL](https://user-images.githubusercontent.com/87232098/210401886-204ac7df-db3e-4604-83c1-27001308a74c.png)"
   ]
  },
  {
   "cell_type": "code",
   "execution_count": null,
   "metadata": {
    "vscode": {
     "languageId": "sql"
    }
   },
   "outputs": [],
   "source": [
    "-- somar 10 unidades a todos os produtos no estoque\n",
    "SELECT product_name, units_in_stock FROM products\n",
    "UPDATE products\n",
    "SET units_in_stock = units_in_stock + 10"
   ]
  },
  {
   "cell_type": "code",
   "execution_count": 11,
   "metadata": {},
   "outputs": [
    {
     "name": "stderr",
     "output_type": "stream",
     "text": [
      "C:\\Users\\syann\\AppData\\Local\\Temp\\ipykernel_6668\\1646470860.py:2: UserWarning: pandas only supports SQLAlchemy connectable (engine/connection) or database string URI or sqlite3 DBAPI2 connection. Other DBAPI2 objects are not tested. Please consider using SQLAlchemy.\n",
      "  df = pd.read_sql_query(\"SELECT product_name, units_in_stock FROM products\", con=conn)\n"
     ]
    },
    {
     "data": {
      "text/html": [
       "<div>\n",
       "<style scoped>\n",
       "    .dataframe tbody tr th:only-of-type {\n",
       "        vertical-align: middle;\n",
       "    }\n",
       "\n",
       "    .dataframe tbody tr th {\n",
       "        vertical-align: top;\n",
       "    }\n",
       "\n",
       "    .dataframe thead th {\n",
       "        text-align: right;\n",
       "    }\n",
       "</style>\n",
       "<table border=\"1\" class=\"dataframe\">\n",
       "  <thead>\n",
       "    <tr style=\"text-align: right;\">\n",
       "      <th></th>\n",
       "      <th>product_name</th>\n",
       "      <th>units_in_stock</th>\n",
       "    </tr>\n",
       "  </thead>\n",
       "  <tbody>\n",
       "    <tr>\n",
       "      <th>0</th>\n",
       "      <td>Chai</td>\n",
       "      <td>39</td>\n",
       "    </tr>\n",
       "    <tr>\n",
       "      <th>1</th>\n",
       "      <td>Chang</td>\n",
       "      <td>17</td>\n",
       "    </tr>\n",
       "    <tr>\n",
       "      <th>2</th>\n",
       "      <td>Aniseed Syrup</td>\n",
       "      <td>13</td>\n",
       "    </tr>\n",
       "    <tr>\n",
       "      <th>3</th>\n",
       "      <td>Chef Anton's Cajun Seasoning</td>\n",
       "      <td>53</td>\n",
       "    </tr>\n",
       "    <tr>\n",
       "      <th>4</th>\n",
       "      <td>Chef Anton's Gumbo Mix</td>\n",
       "      <td>0</td>\n",
       "    </tr>\n",
       "    <tr>\n",
       "      <th>...</th>\n",
       "      <td>...</td>\n",
       "      <td>...</td>\n",
       "    </tr>\n",
       "    <tr>\n",
       "      <th>72</th>\n",
       "      <td>Röd Kaviar</td>\n",
       "      <td>101</td>\n",
       "    </tr>\n",
       "    <tr>\n",
       "      <th>73</th>\n",
       "      <td>Longlife Tofu</td>\n",
       "      <td>4</td>\n",
       "    </tr>\n",
       "    <tr>\n",
       "      <th>74</th>\n",
       "      <td>Rhönbräu Klosterbier</td>\n",
       "      <td>125</td>\n",
       "    </tr>\n",
       "    <tr>\n",
       "      <th>75</th>\n",
       "      <td>Lakkalikööri</td>\n",
       "      <td>57</td>\n",
       "    </tr>\n",
       "    <tr>\n",
       "      <th>76</th>\n",
       "      <td>Original Frankfurter grüne Soße</td>\n",
       "      <td>32</td>\n",
       "    </tr>\n",
       "  </tbody>\n",
       "</table>\n",
       "<p>77 rows × 2 columns</p>\n",
       "</div>"
      ],
      "text/plain": [
       "                       product_name  units_in_stock\n",
       "0                              Chai              39\n",
       "1                             Chang              17\n",
       "2                     Aniseed Syrup              13\n",
       "3      Chef Anton's Cajun Seasoning              53\n",
       "4            Chef Anton's Gumbo Mix               0\n",
       "..                              ...             ...\n",
       "72                       Röd Kaviar             101\n",
       "73                    Longlife Tofu               4\n",
       "74             Rhönbräu Klosterbier             125\n",
       "75                     Lakkalikööri              57\n",
       "76  Original Frankfurter grüne Soße              32\n",
       "\n",
       "[77 rows x 2 columns]"
      ]
     },
     "execution_count": 11,
     "metadata": {},
     "output_type": "execute_result"
    }
   ],
   "source": [
    "# antes\n",
    "df = pd.read_sql_query(\"SELECT product_name, units_in_stock FROM products\", con=conn)\n",
    "df"
   ]
  },
  {
   "cell_type": "code",
   "execution_count": 12,
   "metadata": {},
   "outputs": [
    {
     "name": "stderr",
     "output_type": "stream",
     "text": [
      "C:\\Users\\syann\\AppData\\Local\\Temp\\ipykernel_6668\\3651706090.py:2: UserWarning: pandas only supports SQLAlchemy connectable (engine/connection) or database string URI or sqlite3 DBAPI2 connection. Other DBAPI2 objects are not tested. Please consider using SQLAlchemy.\n",
      "  df = pd.read_sql_query(\"SELECT product_name, units_in_stock FROM products\", con=conn)\n"
     ]
    },
    {
     "data": {
      "text/html": [
       "<div>\n",
       "<style scoped>\n",
       "    .dataframe tbody tr th:only-of-type {\n",
       "        vertical-align: middle;\n",
       "    }\n",
       "\n",
       "    .dataframe tbody tr th {\n",
       "        vertical-align: top;\n",
       "    }\n",
       "\n",
       "    .dataframe thead th {\n",
       "        text-align: right;\n",
       "    }\n",
       "</style>\n",
       "<table border=\"1\" class=\"dataframe\">\n",
       "  <thead>\n",
       "    <tr style=\"text-align: right;\">\n",
       "      <th></th>\n",
       "      <th>product_name</th>\n",
       "      <th>units_in_stock</th>\n",
       "    </tr>\n",
       "  </thead>\n",
       "  <tbody>\n",
       "    <tr>\n",
       "      <th>0</th>\n",
       "      <td>Chai</td>\n",
       "      <td>49</td>\n",
       "    </tr>\n",
       "    <tr>\n",
       "      <th>1</th>\n",
       "      <td>Chang</td>\n",
       "      <td>27</td>\n",
       "    </tr>\n",
       "    <tr>\n",
       "      <th>2</th>\n",
       "      <td>Aniseed Syrup</td>\n",
       "      <td>23</td>\n",
       "    </tr>\n",
       "    <tr>\n",
       "      <th>3</th>\n",
       "      <td>Chef Anton's Cajun Seasoning</td>\n",
       "      <td>63</td>\n",
       "    </tr>\n",
       "    <tr>\n",
       "      <th>4</th>\n",
       "      <td>Chef Anton's Gumbo Mix</td>\n",
       "      <td>10</td>\n",
       "    </tr>\n",
       "    <tr>\n",
       "      <th>...</th>\n",
       "      <td>...</td>\n",
       "      <td>...</td>\n",
       "    </tr>\n",
       "    <tr>\n",
       "      <th>72</th>\n",
       "      <td>Röd Kaviar</td>\n",
       "      <td>111</td>\n",
       "    </tr>\n",
       "    <tr>\n",
       "      <th>73</th>\n",
       "      <td>Longlife Tofu</td>\n",
       "      <td>14</td>\n",
       "    </tr>\n",
       "    <tr>\n",
       "      <th>74</th>\n",
       "      <td>Rhönbräu Klosterbier</td>\n",
       "      <td>135</td>\n",
       "    </tr>\n",
       "    <tr>\n",
       "      <th>75</th>\n",
       "      <td>Lakkalikööri</td>\n",
       "      <td>67</td>\n",
       "    </tr>\n",
       "    <tr>\n",
       "      <th>76</th>\n",
       "      <td>Original Frankfurter grüne Soße</td>\n",
       "      <td>42</td>\n",
       "    </tr>\n",
       "  </tbody>\n",
       "</table>\n",
       "<p>77 rows × 2 columns</p>\n",
       "</div>"
      ],
      "text/plain": [
       "                       product_name  units_in_stock\n",
       "0                              Chai              49\n",
       "1                             Chang              27\n",
       "2                     Aniseed Syrup              23\n",
       "3      Chef Anton's Cajun Seasoning              63\n",
       "4            Chef Anton's Gumbo Mix              10\n",
       "..                              ...             ...\n",
       "72                       Röd Kaviar             111\n",
       "73                    Longlife Tofu              14\n",
       "74             Rhönbräu Klosterbier             135\n",
       "75                     Lakkalikööri              67\n",
       "76  Original Frankfurter grüne Soße              42\n",
       "\n",
       "[77 rows x 2 columns]"
      ]
     },
     "execution_count": 12,
     "metadata": {},
     "output_type": "execute_result"
    }
   ],
   "source": [
    "#depois\n",
    "df = pd.read_sql_query(\"SELECT product_name, units_in_stock FROM products\", con=conn)\n",
    "df"
   ]
  },
  {
   "attachments": {},
   "cell_type": "markdown",
   "metadata": {},
   "source": [
    "#### BACKUP E RESTAURAÇÃO DE BANCO DE DADOS com pg_dump\n"
   ]
  },
  {
   "attachments": {},
   "cell_type": "markdown",
   "metadata": {},
   "source": [
    "##### Backup\n",
    "\n",
    "1. abrir o terminal\n",
    "2. Abrir na pasta de destino do backup cd\n",
    "3. pg_dumb nome_banco > nome_backup\n",
    "* Obs: apenas o proprietário do banco pode realizaro backup\n",
    "* pra evitar q o banco seja conettado com alguém se pode usar o comando revoke\n",
    "    - entrar no psql \n",
    "    - REVOKE CONNECT ON DATABASE nome_bd FROM public;\n",
    "    - SELECT pg_terminate_backend(pg_stat_activity.pid)\n",
    "    - WHERE pg_stat_activity.datname = 'nome_bd';\n",
    "* pra apagar o banco \n",
    "    - drop database nome_bd;\n",
    "##### Restaurar o banco\n",
    " - Cria um banco vazio\n",
    "    - CREATE DATABASE nome_bd template TEMPLATE0;\n",
    "- Restaurar o banco\n",
    "    - no terminal abrir na pasta do bkp\n",
    "        - sudo -u postgres psql nome_banco < nome_banco.bkp\n",
    "\n"
   ]
  },
  {
   "attachments": {},
   "cell_type": "markdown",
   "metadata": {},
   "source": [
    "#### Subconsulta SQL (subquery)\n",
    "\n",
    "uma subconsulta é uma consulta embutida dentro de outra consulta, de forma aninhada, passando os resultados da consulta interna para a consulta mais externa por meio de uma cláusula **WHERE** ou de uma cláusula **HAVING**.\n",
    "\n",
    "##### Regras gerais pra aplicação de subconsultas\n",
    "\n",
    "- A subconsulta pode ter apenas uma única coluna em sua cláusula SELECT, exceto quando a consulta principal tiver múltiplas colunas para comparação com as colunas selecionadas\n",
    "\n",
    "- Se a subconsulta retornar mais de uma linha de dados, é necessário usar operadores de valores múltiplos, como o operador lógico IN\n",
    "As subconsultas são escritas dentro de parênteses\n",
    "\n",
    "- Não é possível usar a cláusula ORDER BY em uma subconsulta – mas a consulta principal pode.\n",
    "\n",
    "- É possível usar uma cláusula GROUP BY em uma subconsulta.\n",
    "Não podemos usar o operador BETWEEN com uma subconsulta (na consulta principal), mas podemos usar esse operador dentro da subconsulta.\n",
    "\n",
    "##### SINTAX\n"
   ]
  },
  {
   "cell_type": "code",
   "execution_count": null,
   "metadata": {
    "vscode": {
     "languageId": "sql"
    }
   },
   "outputs": [],
   "source": [
    "SELECT coluna(s)\n",
    "FROM tabela(s)\n",
    "WHERE coluna operador (SELECT coluna\n",
    "                       FROM tabela WHERE condições);"
   ]
  },
  {
   "cell_type": "code",
   "execution_count": null,
   "metadata": {
    "vscode": {
     "languageId": "sql"
    }
   },
   "outputs": [],
   "source": [
    "select product_name, unit_price\n",
    "from products\n",
    "where unit_price = ( -- consulta interna pra alimentar a cláusula where\n",
    "\tselect max(unit_price)\n",
    "\tfrom products\n",
    ");"
   ]
  },
  {
   "cell_type": "code",
   "execution_count": null,
   "metadata": {
    "vscode": {
     "languageId": "sql"
    }
   },
   "outputs": [],
   "source": [
    "--aplicar um desconto de 10% sobre o valor dos produtos da categoria em uma view de condiments\n",
    "-- gerar o desconto subconsultando a categoria de condiments\n",
    "update products\n",
    "set unit_price = unit_price - unit_price * 0.1 -- aplicando o desconto de 10%\n",
    "where category_id = (--consultando o id da categoria condiments\n",
    "\tselect category_id from categories\n",
    "\twhere category_name = 'Condiments'\n",
    ")"
   ]
  },
  {
   "attachments": {},
   "cell_type": "markdown",
   "metadata": {},
   "source": [
    "#### Funções de manipulação de strings no postgres SQL\n",
    "\n",
    "Concatenação de strings : operador ||\n",
    "retorna um valor de textp (string)\n",
    "\n",
    "sintaxe:\n",
    "\n",
    "\n",
    "string ou não-string || string ou não-string\n",
    " * obs : ao menos um dos operadores deve ser string\n",
    " "
   ]
  },
  {
   "cell_type": "code",
   "execution_count": null,
   "metadata": {
    "vscode": {
     "languageId": "sql"
    }
   },
   "outputs": [],
   "source": [
    "SELECT first_name || ' '|| last_name AS nome_completo_empregados\n",
    "from employees\n",
    "order by nome_completo_empregados;"
   ]
  },
  {
   "cell_type": "code",
   "execution_count": 2,
   "metadata": {},
   "outputs": [
    {
     "name": "stderr",
     "output_type": "stream",
     "text": [
      "C:\\Users\\syann\\AppData\\Local\\Temp\\ipykernel_8936\\325898813.py:2: UserWarning: pandas only supports SQLAlchemy connectable (engine/connection) or database string URI or sqlite3 DBAPI2 connection. Other DBAPI2 objects are not tested. Please consider using SQLAlchemy.\n",
      "  df = pd.read_sql_query(\"SELECT first_name || ' '|| last_name AS nome_completo_empregados from employees order by nome_completo_empregados;\", con=conn)\n"
     ]
    },
    {
     "data": {
      "text/html": [
       "<div>\n",
       "<style scoped>\n",
       "    .dataframe tbody tr th:only-of-type {\n",
       "        vertical-align: middle;\n",
       "    }\n",
       "\n",
       "    .dataframe tbody tr th {\n",
       "        vertical-align: top;\n",
       "    }\n",
       "\n",
       "    .dataframe thead th {\n",
       "        text-align: right;\n",
       "    }\n",
       "</style>\n",
       "<table border=\"1\" class=\"dataframe\">\n",
       "  <thead>\n",
       "    <tr style=\"text-align: right;\">\n",
       "      <th></th>\n",
       "      <th>nome_completo_empregados</th>\n",
       "    </tr>\n",
       "  </thead>\n",
       "  <tbody>\n",
       "    <tr>\n",
       "      <th>0</th>\n",
       "      <td>Andrew Fuller</td>\n",
       "    </tr>\n",
       "    <tr>\n",
       "      <th>1</th>\n",
       "      <td>Anne Dodsworth</td>\n",
       "    </tr>\n",
       "    <tr>\n",
       "      <th>2</th>\n",
       "      <td>Janet Leverling</td>\n",
       "    </tr>\n",
       "    <tr>\n",
       "      <th>3</th>\n",
       "      <td>Laura Callahan</td>\n",
       "    </tr>\n",
       "    <tr>\n",
       "      <th>4</th>\n",
       "      <td>Margaret Peacock</td>\n",
       "    </tr>\n",
       "    <tr>\n",
       "      <th>5</th>\n",
       "      <td>Michael Suyama</td>\n",
       "    </tr>\n",
       "    <tr>\n",
       "      <th>6</th>\n",
       "      <td>Nancy Davolio</td>\n",
       "    </tr>\n",
       "    <tr>\n",
       "      <th>7</th>\n",
       "      <td>Robert King</td>\n",
       "    </tr>\n",
       "    <tr>\n",
       "      <th>8</th>\n",
       "      <td>Steven Buchanan</td>\n",
       "    </tr>\n",
       "  </tbody>\n",
       "</table>\n",
       "</div>"
      ],
      "text/plain": [
       "  nome_completo_empregados\n",
       "0            Andrew Fuller\n",
       "1           Anne Dodsworth\n",
       "2          Janet Leverling\n",
       "3           Laura Callahan\n",
       "4         Margaret Peacock\n",
       "5           Michael Suyama\n",
       "6            Nancy Davolio\n",
       "7              Robert King\n",
       "8          Steven Buchanan"
      ]
     },
     "execution_count": 2,
     "metadata": {},
     "output_type": "execute_result"
    }
   ],
   "source": [
    "\n",
    "df = pd.read_sql_query(\"SELECT first_name || ' '|| last_name AS nome_completo_empregados from employees order by nome_completo_empregados;\", con=conn)\n",
    "df"
   ]
  },
  {
   "attachments": {},
   "cell_type": "markdown",
   "metadata": {},
   "source": [
    "#### Se pode usar a função CONCAT()\n",
    "\n",
    "- sintax :\n",
    "CONCAT(string1,string2,string3,...)"
   ]
  },
  {
   "cell_type": "code",
   "execution_count": null,
   "metadata": {
    "vscode": {
     "languageId": "sql"
    }
   },
   "outputs": [],
   "source": [
    "SELECT CONCAT(first_name,' ',last_name) AS nome_completo_empregados\n",
    "from employees\n",
    "order by nome_completo_empregados;"
   ]
  },
  {
   "cell_type": "code",
   "execution_count": 3,
   "metadata": {},
   "outputs": [
    {
     "name": "stderr",
     "output_type": "stream",
     "text": [
      "C:\\Users\\syann\\AppData\\Local\\Temp\\ipykernel_8936\\385168977.py:1: UserWarning: pandas only supports SQLAlchemy connectable (engine/connection) or database string URI or sqlite3 DBAPI2 connection. Other DBAPI2 objects are not tested. Please consider using SQLAlchemy.\n",
      "  df = pd.read_sql_query(\"SELECT CONCAT(first_name,' ',last_name)AS nome_completo_empregados from employees order by nome_completo_empregados;\", con=conn)\n"
     ]
    },
    {
     "data": {
      "text/html": [
       "<div>\n",
       "<style scoped>\n",
       "    .dataframe tbody tr th:only-of-type {\n",
       "        vertical-align: middle;\n",
       "    }\n",
       "\n",
       "    .dataframe tbody tr th {\n",
       "        vertical-align: top;\n",
       "    }\n",
       "\n",
       "    .dataframe thead th {\n",
       "        text-align: right;\n",
       "    }\n",
       "</style>\n",
       "<table border=\"1\" class=\"dataframe\">\n",
       "  <thead>\n",
       "    <tr style=\"text-align: right;\">\n",
       "      <th></th>\n",
       "      <th>nome_completo_empregados</th>\n",
       "    </tr>\n",
       "  </thead>\n",
       "  <tbody>\n",
       "    <tr>\n",
       "      <th>0</th>\n",
       "      <td>Andrew Fuller</td>\n",
       "    </tr>\n",
       "    <tr>\n",
       "      <th>1</th>\n",
       "      <td>Anne Dodsworth</td>\n",
       "    </tr>\n",
       "    <tr>\n",
       "      <th>2</th>\n",
       "      <td>Janet Leverling</td>\n",
       "    </tr>\n",
       "    <tr>\n",
       "      <th>3</th>\n",
       "      <td>Laura Callahan</td>\n",
       "    </tr>\n",
       "    <tr>\n",
       "      <th>4</th>\n",
       "      <td>Margaret Peacock</td>\n",
       "    </tr>\n",
       "    <tr>\n",
       "      <th>5</th>\n",
       "      <td>Michael Suyama</td>\n",
       "    </tr>\n",
       "    <tr>\n",
       "      <th>6</th>\n",
       "      <td>Nancy Davolio</td>\n",
       "    </tr>\n",
       "    <tr>\n",
       "      <th>7</th>\n",
       "      <td>Robert King</td>\n",
       "    </tr>\n",
       "    <tr>\n",
       "      <th>8</th>\n",
       "      <td>Steven Buchanan</td>\n",
       "    </tr>\n",
       "  </tbody>\n",
       "</table>\n",
       "</div>"
      ],
      "text/plain": [
       "  nome_completo_empregados\n",
       "0            Andrew Fuller\n",
       "1           Anne Dodsworth\n",
       "2          Janet Leverling\n",
       "3           Laura Callahan\n",
       "4         Margaret Peacock\n",
       "5           Michael Suyama\n",
       "6            Nancy Davolio\n",
       "7              Robert King\n",
       "8          Steven Buchanan"
      ]
     },
     "execution_count": 3,
     "metadata": {},
     "output_type": "execute_result"
    }
   ],
   "source": [
    "df = pd.read_sql_query(\"SELECT CONCAT(first_name,' ',last_name)AS nome_completo_empregados from employees order by nome_completo_empregados;\", con=conn)\n",
    "df"
   ]
  },
  {
   "attachments": {},
   "cell_type": "markdown",
   "metadata": {},
   "source": [
    "#### Função bit_length\n",
    "retorna o número de bits em uma string\n",
    "\n",
    "sintaxe :\n",
    "bit_length(string)\n",
    "\n",
    "\n",
    "ex:"
   ]
  },
  {
   "cell_type": "code",
   "execution_count": null,
   "metadata": {
    "vscode": {
     "languageId": "sql"
    }
   },
   "outputs": [],
   "source": [
    "SELECT CONCAT(first_name,' ',last_name)AS nome_completo_empregados\n",
    ", bit_length(first_name) as \"tamanho primeiro nome\"\n",
    "from employees \n",
    "order by nome_completo_empregados;"
   ]
  },
  {
   "cell_type": "code",
   "execution_count": 7,
   "metadata": {},
   "outputs": [
    {
     "name": "stderr",
     "output_type": "stream",
     "text": [
      "C:\\Users\\syann\\AppData\\Local\\Temp\\ipykernel_8936\\2792541392.py:1: UserWarning: pandas only supports SQLAlchemy connectable (engine/connection) or database string URI or sqlite3 DBAPI2 connection. Other DBAPI2 objects are not tested. Please consider using SQLAlchemy.\n",
      "  df = pd.read_sql_query(\"SELECT CONCAT(first_name,' ',last_name)AS nome_completo_empregados, bit_length(first_name) as tamanho_primeiro_nome from employees  order by nome_completo_empregados;\", con=conn)\n"
     ]
    },
    {
     "data": {
      "text/html": [
       "<div>\n",
       "<style scoped>\n",
       "    .dataframe tbody tr th:only-of-type {\n",
       "        vertical-align: middle;\n",
       "    }\n",
       "\n",
       "    .dataframe tbody tr th {\n",
       "        vertical-align: top;\n",
       "    }\n",
       "\n",
       "    .dataframe thead th {\n",
       "        text-align: right;\n",
       "    }\n",
       "</style>\n",
       "<table border=\"1\" class=\"dataframe\">\n",
       "  <thead>\n",
       "    <tr style=\"text-align: right;\">\n",
       "      <th></th>\n",
       "      <th>nome_completo_empregados</th>\n",
       "      <th>tamanho_primeiro_nome</th>\n",
       "    </tr>\n",
       "  </thead>\n",
       "  <tbody>\n",
       "    <tr>\n",
       "      <th>0</th>\n",
       "      <td>Andrew Fuller</td>\n",
       "      <td>48</td>\n",
       "    </tr>\n",
       "    <tr>\n",
       "      <th>1</th>\n",
       "      <td>Anne Dodsworth</td>\n",
       "      <td>32</td>\n",
       "    </tr>\n",
       "    <tr>\n",
       "      <th>2</th>\n",
       "      <td>Janet Leverling</td>\n",
       "      <td>40</td>\n",
       "    </tr>\n",
       "    <tr>\n",
       "      <th>3</th>\n",
       "      <td>Laura Callahan</td>\n",
       "      <td>40</td>\n",
       "    </tr>\n",
       "    <tr>\n",
       "      <th>4</th>\n",
       "      <td>Margaret Peacock</td>\n",
       "      <td>64</td>\n",
       "    </tr>\n",
       "    <tr>\n",
       "      <th>5</th>\n",
       "      <td>Michael Suyama</td>\n",
       "      <td>56</td>\n",
       "    </tr>\n",
       "    <tr>\n",
       "      <th>6</th>\n",
       "      <td>Nancy Davolio</td>\n",
       "      <td>40</td>\n",
       "    </tr>\n",
       "    <tr>\n",
       "      <th>7</th>\n",
       "      <td>Robert King</td>\n",
       "      <td>48</td>\n",
       "    </tr>\n",
       "    <tr>\n",
       "      <th>8</th>\n",
       "      <td>Steven Buchanan</td>\n",
       "      <td>48</td>\n",
       "    </tr>\n",
       "  </tbody>\n",
       "</table>\n",
       "</div>"
      ],
      "text/plain": [
       "  nome_completo_empregados  tamanho_primeiro_nome\n",
       "0            Andrew Fuller                     48\n",
       "1           Anne Dodsworth                     32\n",
       "2          Janet Leverling                     40\n",
       "3           Laura Callahan                     40\n",
       "4         Margaret Peacock                     64\n",
       "5           Michael Suyama                     56\n",
       "6            Nancy Davolio                     40\n",
       "7              Robert King                     48\n",
       "8          Steven Buchanan                     48"
      ]
     },
     "execution_count": 7,
     "metadata": {},
     "output_type": "execute_result"
    }
   ],
   "source": [
    "df = pd.read_sql_query(\"SELECT CONCAT(first_name,' ',last_name)AS nome_completo_empregados, bit_length(first_name) as tamanho_primeiro_nome from employees  order by nome_completo_empregados;\", con=conn)\n",
    "df"
   ]
  },
  {
   "attachments": {},
   "cell_type": "markdown",
   "metadata": {},
   "source": [
    "#### função char_length ou length\n",
    "retorna o numero de caracteres de uma string"
   ]
  },
  {
   "cell_type": "code",
   "execution_count": null,
   "metadata": {
    "vscode": {
     "languageId": "sql"
    }
   },
   "outputs": [],
   "source": [
    "SELECT CONCAT(first_name,' ',last_name)AS nome_completo_empregados\n",
    ", char_length(first_name) as \"n_caracteres nome\"\n",
    "from employees \n",
    "order by nome_completo_empregados;"
   ]
  },
  {
   "attachments": {},
   "cell_type": "markdown",
   "metadata": {},
   "source": [
    "##### função lower(string)\n",
    "converte tudo pra minúsculo\n",
    "##### função upper(string)\n",
    "converte tudo pra maiúsculo\n",
    "##### função overlay\n",
    "substitui uma substring (sequencia de caracteres que é árte da string)\n",
    "\n",
    "- sintaxe\n",
    "\n",
    "overlay(string placing dtring from int[for int]) -- for é quantidade de caracteres desejados "
   ]
  },
  {
   "cell_type": "code",
   "execution_count": null,
   "metadata": {
    "vscode": {
     "languageId": "sql"
    }
   },
   "outputs": [],
   "source": [
    "SELECT overlay('Syanne Karoline' placing 'da' from 15 for 16)"
   ]
  },
  {
   "cell_type": "code",
   "execution_count": 9,
   "metadata": {},
   "outputs": [
    {
     "name": "stderr",
     "output_type": "stream",
     "text": [
      "C:\\Users\\syann\\AppData\\Local\\Temp\\ipykernel_8936\\624426251.py:1: UserWarning: pandas only supports SQLAlchemy connectable (engine/connection) or database string URI or sqlite3 DBAPI2 connection. Other DBAPI2 objects are not tested. Please consider using SQLAlchemy.\n",
      "  df = pd.read_sql_query(\"SELECT overlay('Syanne Karoline' placing 'da' from 15 for 16);\", con=conn)\n"
     ]
    },
    {
     "data": {
      "text/html": [
       "<div>\n",
       "<style scoped>\n",
       "    .dataframe tbody tr th:only-of-type {\n",
       "        vertical-align: middle;\n",
       "    }\n",
       "\n",
       "    .dataframe tbody tr th {\n",
       "        vertical-align: top;\n",
       "    }\n",
       "\n",
       "    .dataframe thead th {\n",
       "        text-align: right;\n",
       "    }\n",
       "</style>\n",
       "<table border=\"1\" class=\"dataframe\">\n",
       "  <thead>\n",
       "    <tr style=\"text-align: right;\">\n",
       "      <th></th>\n",
       "      <th>overlay</th>\n",
       "    </tr>\n",
       "  </thead>\n",
       "  <tbody>\n",
       "    <tr>\n",
       "      <th>0</th>\n",
       "      <td>Syanne Karolinda</td>\n",
       "    </tr>\n",
       "  </tbody>\n",
       "</table>\n",
       "</div>"
      ],
      "text/plain": [
       "            overlay\n",
       "0  Syanne Karolinda"
      ]
     },
     "execution_count": 9,
     "metadata": {},
     "output_type": "execute_result"
    }
   ],
   "source": [
    "df = pd.read_sql_query(\"SELECT overlay('Syanne Karoline' placing 'da' from 15 for 16);\", con=conn)\n",
    "df"
   ]
  },
  {
   "attachments": {},
   "cell_type": "markdown",
   "metadata": {},
   "source": [
    "##### função position\n",
    "\n",
    "fornece a localização de uma substring especificada\n",
    "\n",
    "- sintaxe:\n",
    "    - position(substring in string/coluna de strings)"
   ]
  },
  {
   "cell_type": "code",
   "execution_count": null,
   "metadata": {
    "vscode": {
     "languageId": "sql"
    }
   },
   "outputs": [],
   "source": [
    "SELECT position('karol' in 'syanne karolinda') --diferencia maiúsculo de minúscula"
   ]
  },
  {
   "cell_type": "code",
   "execution_count": 10,
   "metadata": {},
   "outputs": [
    {
     "name": "stderr",
     "output_type": "stream",
     "text": [
      "C:\\Users\\syann\\AppData\\Local\\Temp\\ipykernel_8936\\1281761904.py:1: UserWarning: pandas only supports SQLAlchemy connectable (engine/connection) or database string URI or sqlite3 DBAPI2 connection. Other DBAPI2 objects are not tested. Please consider using SQLAlchemy.\n",
      "  df = pd.read_sql_query(\"SELECT position('karol' in 'syanne karolinda');\", con=conn)\n"
     ]
    },
    {
     "data": {
      "text/html": [
       "<div>\n",
       "<style scoped>\n",
       "    .dataframe tbody tr th:only-of-type {\n",
       "        vertical-align: middle;\n",
       "    }\n",
       "\n",
       "    .dataframe tbody tr th {\n",
       "        vertical-align: top;\n",
       "    }\n",
       "\n",
       "    .dataframe thead th {\n",
       "        text-align: right;\n",
       "    }\n",
       "</style>\n",
       "<table border=\"1\" class=\"dataframe\">\n",
       "  <thead>\n",
       "    <tr style=\"text-align: right;\">\n",
       "      <th></th>\n",
       "      <th>position</th>\n",
       "    </tr>\n",
       "  </thead>\n",
       "  <tbody>\n",
       "    <tr>\n",
       "      <th>0</th>\n",
       "      <td>8</td>\n",
       "    </tr>\n",
       "  </tbody>\n",
       "</table>\n",
       "</div>"
      ],
      "text/plain": [
       "   position\n",
       "0         8"
      ]
     },
     "execution_count": 10,
     "metadata": {},
     "output_type": "execute_result"
    }
   ],
   "source": [
    "df = pd.read_sql_query(\"SELECT position('karol' in 'syanne karolinda');\", con=conn)\n",
    "df"
   ]
  },
  {
   "attachments": {},
   "cell_type": "markdown",
   "metadata": {},
   "source": [
    "#### função substring \n",
    "extrai uma substring (sequência de caracteres dentro da string)\n",
    "\n",
    "- sintaxe :\n",
    "    - substring(strinf [from int][for int])"
   ]
  },
  {
   "cell_type": "code",
   "execution_count": 13,
   "metadata": {},
   "outputs": [
    {
     "name": "stderr",
     "output_type": "stream",
     "text": [
      "C:\\Users\\syann\\AppData\\Local\\Temp\\ipykernel_8936\\1921613967.py:1: UserWarning: pandas only supports SQLAlchemy connectable (engine/connection) or database string URI or sqlite3 DBAPI2 connection. Other DBAPI2 objects are not tested. Please consider using SQLAlchemy.\n",
      "  df = pd.read_sql_query(\"SELECT substring('syanne karolinda' from 3 for 5);\", con=conn)\n"
     ]
    },
    {
     "data": {
      "text/html": [
       "<div>\n",
       "<style scoped>\n",
       "    .dataframe tbody tr th:only-of-type {\n",
       "        vertical-align: middle;\n",
       "    }\n",
       "\n",
       "    .dataframe tbody tr th {\n",
       "        vertical-align: top;\n",
       "    }\n",
       "\n",
       "    .dataframe thead th {\n",
       "        text-align: right;\n",
       "    }\n",
       "</style>\n",
       "<table border=\"1\" class=\"dataframe\">\n",
       "  <thead>\n",
       "    <tr style=\"text-align: right;\">\n",
       "      <th></th>\n",
       "      <th>substring</th>\n",
       "    </tr>\n",
       "  </thead>\n",
       "  <tbody>\n",
       "    <tr>\n",
       "      <th>0</th>\n",
       "      <td>anne</td>\n",
       "    </tr>\n",
       "  </tbody>\n",
       "</table>\n",
       "</div>"
      ],
      "text/plain": [
       "  substring\n",
       "0     anne "
      ]
     },
     "execution_count": 13,
     "metadata": {},
     "output_type": "execute_result"
    }
   ],
   "source": [
    "df = pd.read_sql_query(\"SELECT substring('syanne karolinda' from 3 for 5);\", con=conn)\n",
    "df"
   ]
  },
  {
   "cell_type": "code",
   "execution_count": 14,
   "metadata": {},
   "outputs": [
    {
     "name": "stderr",
     "output_type": "stream",
     "text": [
      "C:\\Users\\syann\\AppData\\Local\\Temp\\ipykernel_8936\\2376026125.py:2: UserWarning: pandas only supports SQLAlchemy connectable (engine/connection) or database string URI or sqlite3 DBAPI2 connection. Other DBAPI2 objects are not tested. Please consider using SQLAlchemy.\n",
      "  df = pd.read_sql_query(\"SELECT upper(substring('syanne karolinda' from 3 for 5));\", con=conn)\n"
     ]
    },
    {
     "data": {
      "text/html": [
       "<div>\n",
       "<style scoped>\n",
       "    .dataframe tbody tr th:only-of-type {\n",
       "        vertical-align: middle;\n",
       "    }\n",
       "\n",
       "    .dataframe tbody tr th {\n",
       "        vertical-align: top;\n",
       "    }\n",
       "\n",
       "    .dataframe thead th {\n",
       "        text-align: right;\n",
       "    }\n",
       "</style>\n",
       "<table border=\"1\" class=\"dataframe\">\n",
       "  <thead>\n",
       "    <tr style=\"text-align: right;\">\n",
       "      <th></th>\n",
       "      <th>upper</th>\n",
       "    </tr>\n",
       "  </thead>\n",
       "  <tbody>\n",
       "    <tr>\n",
       "      <th>0</th>\n",
       "      <td>ANNE</td>\n",
       "    </tr>\n",
       "  </tbody>\n",
       "</table>\n",
       "</div>"
      ],
      "text/plain": [
       "   upper\n",
       "0  ANNE "
      ]
     },
     "execution_count": 14,
     "metadata": {},
     "output_type": "execute_result"
    }
   ],
   "source": [
    "# se pode combinar funções\n",
    "df = pd.read_sql_query(\"SELECT upper(substring('syanne karolinda' from 3 for 5));\", con=conn)\n",
    "df "
   ]
  },
  {
   "cell_type": "code",
   "execution_count": 18,
   "metadata": {},
   "outputs": [
    {
     "name": "stderr",
     "output_type": "stream",
     "text": [
      "C:\\Users\\syann\\AppData\\Local\\Temp\\ipykernel_8936\\870774967.py:1: UserWarning: pandas only supports SQLAlchemy connectable (engine/connection) or database string URI or sqlite3 DBAPI2 connection. Other DBAPI2 objects are not tested. Please consider using SQLAlchemy.\n",
      "  df = pd.read_sql_query(\"SELECT concat('syanne karo',upper(substring('syanne karolinda' from 12 for 16)),' Moreira Tavares');\", con=conn)\n"
     ]
    },
    {
     "data": {
      "text/html": [
       "<div>\n",
       "<style scoped>\n",
       "    .dataframe tbody tr th:only-of-type {\n",
       "        vertical-align: middle;\n",
       "    }\n",
       "\n",
       "    .dataframe tbody tr th {\n",
       "        vertical-align: top;\n",
       "    }\n",
       "\n",
       "    .dataframe thead th {\n",
       "        text-align: right;\n",
       "    }\n",
       "</style>\n",
       "<table border=\"1\" class=\"dataframe\">\n",
       "  <thead>\n",
       "    <tr style=\"text-align: right;\">\n",
       "      <th></th>\n",
       "      <th>concat</th>\n",
       "    </tr>\n",
       "  </thead>\n",
       "  <tbody>\n",
       "    <tr>\n",
       "      <th>0</th>\n",
       "      <td>syanne karoLINDA Moreira Tavares</td>\n",
       "    </tr>\n",
       "  </tbody>\n",
       "</table>\n",
       "</div>"
      ],
      "text/plain": [
       "                             concat\n",
       "0  syanne karoLINDA Moreira Tavares"
      ]
     },
     "execution_count": 18,
     "metadata": {},
     "output_type": "execute_result"
    }
   ],
   "source": [
    "df = pd.read_sql_query(\"SELECT concat('syanne karo',upper(substring('syanne karolinda' from 12 for 16)),' Moreira Tavares');\", con=conn)\n",
    "df "
   ]
  },
  {
   "attachments": {},
   "cell_type": "markdown",
   "metadata": {},
   "source": [
    "##### função trim \n",
    "\n",
    "remove a substring contendo os caracteres informados no início,\n",
    "final ou em ambos os extremos da string (por padrão remove espaços)\n",
    "- útil na hora de inserir strings e trata-las pra retirar espaços em branco por exemplo\n",
    "- sintaxe :\n",
    "    - trim([leading| trailing|both][caracteres] from string)\n",
    "    - trim (posicao de retirada, caracteres opcionais pq se n tiver tira os espaços por padrão from string qu quer retirar )\n",
    "- exemplos:\n",
    "\n"
   ]
  },
  {
   "cell_type": "code",
   "execution_count": 21,
   "metadata": {},
   "outputs": [
    {
     "name": "stderr",
     "output_type": "stream",
     "text": [
      "C:\\Users\\syann\\AppData\\Local\\Temp\\ipykernel_8936\\538555966.py:1: UserWarning: pandas only supports SQLAlchemy connectable (engine/connection) or database string URI or sqlite3 DBAPI2 connection. Other DBAPI2 objects are not tested. Please consider using SQLAlchemy.\n",
      "  df = pd.read_sql_query(\"SELECT '       syanne   ';\", con=conn)\n"
     ]
    },
    {
     "data": {
      "text/html": [
       "<div>\n",
       "<style scoped>\n",
       "    .dataframe tbody tr th:only-of-type {\n",
       "        vertical-align: middle;\n",
       "    }\n",
       "\n",
       "    .dataframe tbody tr th {\n",
       "        vertical-align: top;\n",
       "    }\n",
       "\n",
       "    .dataframe thead th {\n",
       "        text-align: right;\n",
       "    }\n",
       "</style>\n",
       "<table border=\"1\" class=\"dataframe\">\n",
       "  <thead>\n",
       "    <tr style=\"text-align: right;\">\n",
       "      <th></th>\n",
       "      <th>?column?</th>\n",
       "    </tr>\n",
       "  </thead>\n",
       "  <tbody>\n",
       "    <tr>\n",
       "      <th>0</th>\n",
       "      <td>syanne</td>\n",
       "    </tr>\n",
       "  </tbody>\n",
       "</table>\n",
       "</div>"
      ],
      "text/plain": [
       "           ?column?\n",
       "0         syanne   "
      ]
     },
     "execution_count": 21,
     "metadata": {},
     "output_type": "execute_result"
    }
   ],
   "source": [
    "df = pd.read_sql_query(\"SELECT '       syanne   ';\", con=conn)\n",
    "df "
   ]
  },
  {
   "cell_type": "code",
   "execution_count": 23,
   "metadata": {},
   "outputs": [
    {
     "name": "stderr",
     "output_type": "stream",
     "text": [
      "C:\\Users\\syann\\AppData\\Local\\Temp\\ipykernel_8936\\3646640528.py:1: UserWarning: pandas only supports SQLAlchemy connectable (engine/connection) or database string URI or sqlite3 DBAPI2 connection. Other DBAPI2 objects are not tested. Please consider using SQLAlchemy.\n",
      "  df = pd.read_sql_query(\"SELECT trim('       syanne    ');\", con=conn)\n"
     ]
    },
    {
     "data": {
      "text/html": [
       "<div>\n",
       "<style scoped>\n",
       "    .dataframe tbody tr th:only-of-type {\n",
       "        vertical-align: middle;\n",
       "    }\n",
       "\n",
       "    .dataframe tbody tr th {\n",
       "        vertical-align: top;\n",
       "    }\n",
       "\n",
       "    .dataframe thead th {\n",
       "        text-align: right;\n",
       "    }\n",
       "</style>\n",
       "<table border=\"1\" class=\"dataframe\">\n",
       "  <thead>\n",
       "    <tr style=\"text-align: right;\">\n",
       "      <th></th>\n",
       "      <th>btrim</th>\n",
       "    </tr>\n",
       "  </thead>\n",
       "  <tbody>\n",
       "    <tr>\n",
       "      <th>0</th>\n",
       "      <td>syanne</td>\n",
       "    </tr>\n",
       "  </tbody>\n",
       "</table>\n",
       "</div>"
      ],
      "text/plain": [
       "    btrim\n",
       "0  syanne"
      ]
     },
     "execution_count": 23,
     "metadata": {},
     "output_type": "execute_result"
    }
   ],
   "source": [
    "df = pd.read_sql_query(\"SELECT trim('       syanne    ');\", con=conn)\n",
    "df  "
   ]
  },
  {
   "attachments": {},
   "cell_type": "markdown",
   "metadata": {},
   "source": [
    "##### https://www.postgresql.org/docs/9.1/functions-string.html"
   ]
  }
 ],
 "metadata": {
  "kernelspec": {
   "display_name": "Python 3",
   "language": "python",
   "name": "python3"
  },
  "language_info": {
   "codemirror_mode": {
    "name": "ipython",
    "version": 3
   },
   "file_extension": ".py",
   "mimetype": "text/x-python",
   "name": "python",
   "nbconvert_exporter": "python",
   "pygments_lexer": "ipython3",
   "version": "3.10.9"
  },
  "orig_nbformat": 4,
  "vscode": {
   "interpreter": {
    "hash": "0b638b7dbb675c7855f88e6c22606685bdfdb7930c74e26bbb201fdeea169578"
   }
  }
 },
 "nbformat": 4,
 "nbformat_minor": 2
}
